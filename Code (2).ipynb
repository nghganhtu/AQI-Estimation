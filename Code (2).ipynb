{
  "cells": [
    {
      "cell_type": "markdown",
      "metadata": {
        "id": "E-GHRf3M54JX"
      },
      "source": [
        "**References**\n",
        "*  https://www.kaggle.com/code/mukeshmanral/advance-linear-regression-gridsearchcv-hpt-basic?scriptVersionId=77957379\n",
        "* https://www.projectpro.io/recipes/find-optimal-parameters-using-gridsearchcv-for-regression#mcetoc_1g1frvgll8\n",
        "* https://scikit-learn.org/stable/modules/model_evaluation.html\n",
        "* https://www.analyticsvidhya.com/blog/2021/08/a-walk-through-of-regression-analysis-using-artificial-neural-networks-in-tensorflow/\n",
        "* https://python-course.eu/machine-learning/introduction-regression-with-python.php"
      ]
    },
    {
      "cell_type": "code",
      "execution_count": null,
      "metadata": {
        "colab": {
          "base_uri": "https://localhost:8080/"
        },
        "id": "gv4Q2X6Bwvoc",
        "outputId": "2e3cf4ab-b66d-4e00-bd23-9ad96acda916"
      },
      "outputs": [
        {
          "output_type": "stream",
          "name": "stdout",
          "text": [
            "Drive already mounted at /content/drive; to attempt to forcibly remount, call drive.mount(\"/content/drive\", force_remount=True).\n"
          ]
        }
      ],
      "source": [
        "from google.colab import drive\n",
        "drive.mount('/content/drive')"
      ]
    },
    {
      "cell_type": "code",
      "execution_count": null,
      "metadata": {
        "colab": {
          "base_uri": "https://localhost:8080/"
        },
        "id": "6NtrAbFH0tDz",
        "outputId": "a6aee371-06cc-4131-ed38-e2c58fd401ba"
      },
      "outputs": [
        {
          "output_type": "stream",
          "name": "stdout",
          "text": [
            "/content/drive/MyDrive/NCKH VNICT\n",
            " Dataset\t  DatasetPlaces.gsheet\t Ideas.gdoc\t   TASK.gsheet\n",
            " Dataset.gsheet   FINAL.ipynb\t\t'Research Paper'   Timeline.gdoc\n"
          ]
        }
      ],
      "source": [
        "%cd '/content/drive/MyDrive/NCKH VNICT'\n",
        "!ls"
      ]
    },
    {
      "cell_type": "code",
      "execution_count": null,
      "metadata": {
        "id": "kcuoGgNb0tBX"
      },
      "outputs": [],
      "source": [
        "import pandas as pd\n",
        "import numpy as np\n",
        "import seaborn as sns\n",
        "import matplotlib.pyplot as plt\n",
        "\n",
        "# Transform \n",
        "from sklearn.preprocessing import FunctionTransformer\n",
        "from sklearn.preprocessing import PowerTransformer\n",
        "\n",
        "# Find best subset and parameters\n",
        "from sklearn.preprocessing import StandardScaler\n",
        "from sklearn.model_selection import train_test_split\n",
        "from sklearn.model_selection import KFold\n",
        "from sklearn.model_selection import cross_val_score\n",
        "from sklearn.model_selection import GridSearchCV\n",
        "\n",
        "# Models\n",
        "from sklearn.linear_model import LinearRegression\n",
        "from sklearn.linear_model import Ridge # L2 regularization\n",
        "from sklearn.linear_model import Lasso # L1 regularization\n",
        "from sklearn.linear_model import ElasticNet # Combine of L1 and L2 \n",
        "from sklearn.tree import DecisionTreeRegressor\n",
        "from sklearn.neighbors import KNeighborsRegressor\n",
        "from sklearn.svm import SVR\n",
        "\n",
        "# Ensembles\n",
        "from sklearn.ensemble import RandomForestRegressor\n",
        "from sklearn.ensemble import GradientBoostingRegressor\n",
        "from sklearn.ensemble import ExtraTreesRegressor\n",
        "from sklearn.ensemble import AdaBoostRegressor"
      ]
    },
    {
      "cell_type": "markdown",
      "metadata": {
        "id": "4xpG6pVh0091"
      },
      "source": [
        "# I. Import and check the dataset "
      ]
    },
    {
      "cell_type": "code",
      "execution_count": null,
      "metadata": {
        "id": "Ajk7ydz30s-S",
        "colab": {
          "base_uri": "https://localhost:8080/",
          "height": 328
        },
        "outputId": "1b4fc1d0-1f6f-4da2-af91-ab4f46820ff7"
      },
      "outputs": [
        {
          "output_type": "error",
          "ename": "FileNotFoundError",
          "evalue": "ignored",
          "traceback": [
            "\u001b[0;31m---------------------------------------------------------------------------\u001b[0m",
            "\u001b[0;31mFileNotFoundError\u001b[0m                         Traceback (most recent call last)",
            "\u001b[0;32m<ipython-input-66-df6cc24dcd34>\u001b[0m in \u001b[0;36m<cell line: 2>\u001b[0;34m()\u001b[0m\n\u001b[1;32m      1\u001b[0m \u001b[0;31m# Import datasets\u001b[0m\u001b[0;34m\u001b[0m\u001b[0;34m\u001b[0m\u001b[0m\n\u001b[0;32m----> 2\u001b[0;31m \u001b[0mdata\u001b[0m \u001b[0;34m=\u001b[0m \u001b[0mpd\u001b[0m\u001b[0;34m.\u001b[0m\u001b[0mread_excel\u001b[0m\u001b[0;34m(\u001b[0m\u001b[0;34m'/content/drive/MyDrive/NCKH VNICT/Dataset/FullDataSet.xlsx'\u001b[0m\u001b[0;34m)\u001b[0m\u001b[0;34m\u001b[0m\u001b[0;34m\u001b[0m\u001b[0m\n\u001b[0m",
            "\u001b[0;32m/usr/local/lib/python3.10/dist-packages/pandas/util/_decorators.py\u001b[0m in \u001b[0;36mwrapper\u001b[0;34m(*args, **kwargs)\u001b[0m\n\u001b[1;32m    209\u001b[0m                 \u001b[0;32melse\u001b[0m\u001b[0;34m:\u001b[0m\u001b[0;34m\u001b[0m\u001b[0;34m\u001b[0m\u001b[0m\n\u001b[1;32m    210\u001b[0m                     \u001b[0mkwargs\u001b[0m\u001b[0;34m[\u001b[0m\u001b[0mnew_arg_name\u001b[0m\u001b[0;34m]\u001b[0m \u001b[0;34m=\u001b[0m \u001b[0mnew_arg_value\u001b[0m\u001b[0;34m\u001b[0m\u001b[0;34m\u001b[0m\u001b[0m\n\u001b[0;32m--> 211\u001b[0;31m             \u001b[0;32mreturn\u001b[0m \u001b[0mfunc\u001b[0m\u001b[0;34m(\u001b[0m\u001b[0;34m*\u001b[0m\u001b[0margs\u001b[0m\u001b[0;34m,\u001b[0m \u001b[0;34m**\u001b[0m\u001b[0mkwargs\u001b[0m\u001b[0;34m)\u001b[0m\u001b[0;34m\u001b[0m\u001b[0;34m\u001b[0m\u001b[0m\n\u001b[0m\u001b[1;32m    212\u001b[0m \u001b[0;34m\u001b[0m\u001b[0m\n\u001b[1;32m    213\u001b[0m         \u001b[0;32mreturn\u001b[0m \u001b[0mcast\u001b[0m\u001b[0;34m(\u001b[0m\u001b[0mF\u001b[0m\u001b[0;34m,\u001b[0m \u001b[0mwrapper\u001b[0m\u001b[0;34m)\u001b[0m\u001b[0;34m\u001b[0m\u001b[0;34m\u001b[0m\u001b[0m\n",
            "\u001b[0;32m/usr/local/lib/python3.10/dist-packages/pandas/util/_decorators.py\u001b[0m in \u001b[0;36mwrapper\u001b[0;34m(*args, **kwargs)\u001b[0m\n\u001b[1;32m    329\u001b[0m                     \u001b[0mstacklevel\u001b[0m\u001b[0;34m=\u001b[0m\u001b[0mfind_stack_level\u001b[0m\u001b[0;34m(\u001b[0m\u001b[0;34m)\u001b[0m\u001b[0;34m,\u001b[0m\u001b[0;34m\u001b[0m\u001b[0;34m\u001b[0m\u001b[0m\n\u001b[1;32m    330\u001b[0m                 )\n\u001b[0;32m--> 331\u001b[0;31m             \u001b[0;32mreturn\u001b[0m \u001b[0mfunc\u001b[0m\u001b[0;34m(\u001b[0m\u001b[0;34m*\u001b[0m\u001b[0margs\u001b[0m\u001b[0;34m,\u001b[0m \u001b[0;34m**\u001b[0m\u001b[0mkwargs\u001b[0m\u001b[0;34m)\u001b[0m\u001b[0;34m\u001b[0m\u001b[0;34m\u001b[0m\u001b[0m\n\u001b[0m\u001b[1;32m    332\u001b[0m \u001b[0;34m\u001b[0m\u001b[0m\n\u001b[1;32m    333\u001b[0m         \u001b[0;31m# error: \"Callable[[VarArg(Any), KwArg(Any)], Any]\" has no\u001b[0m\u001b[0;34m\u001b[0m\u001b[0;34m\u001b[0m\u001b[0m\n",
            "\u001b[0;32m/usr/local/lib/python3.10/dist-packages/pandas/io/excel/_base.py\u001b[0m in \u001b[0;36mread_excel\u001b[0;34m(io, sheet_name, header, names, index_col, usecols, squeeze, dtype, engine, converters, true_values, false_values, skiprows, nrows, na_values, keep_default_na, na_filter, verbose, parse_dates, date_parser, thousands, decimal, comment, skipfooter, convert_float, mangle_dupe_cols, storage_options)\u001b[0m\n\u001b[1;32m    480\u001b[0m     \u001b[0;32mif\u001b[0m \u001b[0;32mnot\u001b[0m \u001b[0misinstance\u001b[0m\u001b[0;34m(\u001b[0m\u001b[0mio\u001b[0m\u001b[0;34m,\u001b[0m \u001b[0mExcelFile\u001b[0m\u001b[0;34m)\u001b[0m\u001b[0;34m:\u001b[0m\u001b[0;34m\u001b[0m\u001b[0;34m\u001b[0m\u001b[0m\n\u001b[1;32m    481\u001b[0m         \u001b[0mshould_close\u001b[0m \u001b[0;34m=\u001b[0m \u001b[0;32mTrue\u001b[0m\u001b[0;34m\u001b[0m\u001b[0;34m\u001b[0m\u001b[0m\n\u001b[0;32m--> 482\u001b[0;31m         \u001b[0mio\u001b[0m \u001b[0;34m=\u001b[0m \u001b[0mExcelFile\u001b[0m\u001b[0;34m(\u001b[0m\u001b[0mio\u001b[0m\u001b[0;34m,\u001b[0m \u001b[0mstorage_options\u001b[0m\u001b[0;34m=\u001b[0m\u001b[0mstorage_options\u001b[0m\u001b[0;34m,\u001b[0m \u001b[0mengine\u001b[0m\u001b[0;34m=\u001b[0m\u001b[0mengine\u001b[0m\u001b[0;34m)\u001b[0m\u001b[0;34m\u001b[0m\u001b[0;34m\u001b[0m\u001b[0m\n\u001b[0m\u001b[1;32m    483\u001b[0m     \u001b[0;32melif\u001b[0m \u001b[0mengine\u001b[0m \u001b[0;32mand\u001b[0m \u001b[0mengine\u001b[0m \u001b[0;34m!=\u001b[0m \u001b[0mio\u001b[0m\u001b[0;34m.\u001b[0m\u001b[0mengine\u001b[0m\u001b[0;34m:\u001b[0m\u001b[0;34m\u001b[0m\u001b[0;34m\u001b[0m\u001b[0m\n\u001b[1;32m    484\u001b[0m         raise ValueError(\n",
            "\u001b[0;32m/usr/local/lib/python3.10/dist-packages/pandas/io/excel/_base.py\u001b[0m in \u001b[0;36m__init__\u001b[0;34m(self, path_or_buffer, engine, storage_options)\u001b[0m\n\u001b[1;32m   1650\u001b[0m                 \u001b[0mext\u001b[0m \u001b[0;34m=\u001b[0m \u001b[0;34m\"xls\"\u001b[0m\u001b[0;34m\u001b[0m\u001b[0;34m\u001b[0m\u001b[0m\n\u001b[1;32m   1651\u001b[0m             \u001b[0;32melse\u001b[0m\u001b[0;34m:\u001b[0m\u001b[0;34m\u001b[0m\u001b[0;34m\u001b[0m\u001b[0m\n\u001b[0;32m-> 1652\u001b[0;31m                 ext = inspect_excel_format(\n\u001b[0m\u001b[1;32m   1653\u001b[0m                     \u001b[0mcontent_or_path\u001b[0m\u001b[0;34m=\u001b[0m\u001b[0mpath_or_buffer\u001b[0m\u001b[0;34m,\u001b[0m \u001b[0mstorage_options\u001b[0m\u001b[0;34m=\u001b[0m\u001b[0mstorage_options\u001b[0m\u001b[0;34m\u001b[0m\u001b[0;34m\u001b[0m\u001b[0m\n\u001b[1;32m   1654\u001b[0m                 )\n",
            "\u001b[0;32m/usr/local/lib/python3.10/dist-packages/pandas/io/excel/_base.py\u001b[0m in \u001b[0;36minspect_excel_format\u001b[0;34m(content_or_path, storage_options)\u001b[0m\n\u001b[1;32m   1523\u001b[0m         \u001b[0mcontent_or_path\u001b[0m \u001b[0;34m=\u001b[0m \u001b[0mBytesIO\u001b[0m\u001b[0;34m(\u001b[0m\u001b[0mcontent_or_path\u001b[0m\u001b[0;34m)\u001b[0m\u001b[0;34m\u001b[0m\u001b[0;34m\u001b[0m\u001b[0m\n\u001b[1;32m   1524\u001b[0m \u001b[0;34m\u001b[0m\u001b[0m\n\u001b[0;32m-> 1525\u001b[0;31m     with get_handle(\n\u001b[0m\u001b[1;32m   1526\u001b[0m         \u001b[0mcontent_or_path\u001b[0m\u001b[0;34m,\u001b[0m \u001b[0;34m\"rb\"\u001b[0m\u001b[0;34m,\u001b[0m \u001b[0mstorage_options\u001b[0m\u001b[0;34m=\u001b[0m\u001b[0mstorage_options\u001b[0m\u001b[0;34m,\u001b[0m \u001b[0mis_text\u001b[0m\u001b[0;34m=\u001b[0m\u001b[0;32mFalse\u001b[0m\u001b[0;34m\u001b[0m\u001b[0;34m\u001b[0m\u001b[0m\n\u001b[1;32m   1527\u001b[0m     ) as handle:\n",
            "\u001b[0;32m/usr/local/lib/python3.10/dist-packages/pandas/io/common.py\u001b[0m in \u001b[0;36mget_handle\u001b[0;34m(path_or_buf, mode, encoding, compression, memory_map, is_text, errors, storage_options)\u001b[0m\n\u001b[1;32m    863\u001b[0m         \u001b[0;32melse\u001b[0m\u001b[0;34m:\u001b[0m\u001b[0;34m\u001b[0m\u001b[0;34m\u001b[0m\u001b[0m\n\u001b[1;32m    864\u001b[0m             \u001b[0;31m# Binary mode\u001b[0m\u001b[0;34m\u001b[0m\u001b[0;34m\u001b[0m\u001b[0m\n\u001b[0;32m--> 865\u001b[0;31m             \u001b[0mhandle\u001b[0m \u001b[0;34m=\u001b[0m \u001b[0mopen\u001b[0m\u001b[0;34m(\u001b[0m\u001b[0mhandle\u001b[0m\u001b[0;34m,\u001b[0m \u001b[0mioargs\u001b[0m\u001b[0;34m.\u001b[0m\u001b[0mmode\u001b[0m\u001b[0;34m)\u001b[0m\u001b[0;34m\u001b[0m\u001b[0;34m\u001b[0m\u001b[0m\n\u001b[0m\u001b[1;32m    866\u001b[0m         \u001b[0mhandles\u001b[0m\u001b[0;34m.\u001b[0m\u001b[0mappend\u001b[0m\u001b[0;34m(\u001b[0m\u001b[0mhandle\u001b[0m\u001b[0;34m)\u001b[0m\u001b[0;34m\u001b[0m\u001b[0;34m\u001b[0m\u001b[0m\n\u001b[1;32m    867\u001b[0m \u001b[0;34m\u001b[0m\u001b[0m\n",
            "\u001b[0;31mFileNotFoundError\u001b[0m: [Errno 2] No such file or directory: '/content/drive/MyDrive/NCKH VNICT/Dataset/FullDataSet.xlsx'"
          ]
        }
      ],
      "source": [
        "# Import datasets\n",
        "data1 = pd.read_excel('/content/drive/MyDrive/NCKH VNICT/Dataset/Dataset PAM AIR.xlsx', 'Quảng Ninh')\n",
        "data2 = pd.read_excel('/content/drive/MyDrive/NCKH VNICT/Dataset/Dataset PAM AIR.xlsx', 'Lào Cai')\n",
        "data3 = pd.read_excel('/content/drive/MyDrive/NCKH VNICT/Dataset/Dataset PAM AIR.xlsx', 'Hà Nội')\n",
        "data4 = pd.read_excel('/content/drive/MyDrive/NCKH VNICT/Dataset/Dataset PAM AIR.xlsx', 'Quảng Bình')\n",
        "data5 = pd.read_excel('/content/drive/MyDrive/NCKH VNICT/Dataset/Dataset PAM AIR.xlsx', 'Đà Nẵng')\n",
        "data6 = pd.read_excel('/content/drive/MyDrive/NCKH VNICT/Dataset/Dataset PAM AIR.xlsx', 'Đắk Lắk')\n",
        "data7 = pd.read_excel('/content/drive/MyDrive/NCKH VNICT/Dataset/Dataset PAM AIR.xlsx', 'TPHCM')\n",
        "data8 = pd.read_excel('/content/drive/MyDrive/NCKH VNICT/Dataset/Dataset PAM AIR.xlsx', 'Kiên Giang')\n",
        "data9 = pd.read_excel('/content/drive/MyDrive/NCKH VNICT/Dataset/Dataset PAM AIR.xlsx', 'Cao Bằng')\n",
        "data10 = pd.read_excel('/content/drive/MyDrive/NCKH VNICT/Dataset/Dataset PAM AIR.xlsx', 'Cà Mau')"
      ]
    },
    {
      "cell_type": "code",
      "execution_count": null,
      "metadata": {
        "id": "gULCxIJJBH6U"
      },
      "outputs": [],
      "source": [
        "# Set the column name\n",
        "data1.columns = ['Time', 'PM25', 'Humidnity', 'Temperature', 'Rush Hour', 'Hour', \n",
        "                'Day', 'Month', 'Year', 'Altitude', 'Airport Distance', 'Airport', \n",
        "                'Province', 'Industrial Distance', 'Industrial Zone', 'Place']\n",
        "\n",
        "data2.columns = ['Time', 'PM25', 'Humidnity', 'Temperature', 'Rush Hour', 'Hour', \n",
        "                'Day', 'Month', 'Year', 'Altitude', 'Airport Distance', 'Airport', \n",
        "                'Province', 'Industrial Distance', 'Industrial Zone', 'Place']\n",
        "\n",
        "data3.columns = ['Time', 'PM25', 'Humidnity', 'Temperature', 'Rush Hour', 'Hour', \n",
        "                'Day', 'Month', 'Year', 'Altitude', 'Airport Distance', 'Airport', \n",
        "                'Province', 'Industrial Distance', 'Industrial Zone', 'Place']\n",
        "\n",
        "data4.columns = ['Time', 'PM25', 'Humidnity', 'Temperature', 'Rush Hour', 'Hour', \n",
        "                'Day', 'Month', 'Year', 'Altitude', 'Airport Distance', 'Airport', \n",
        "                'Province', 'Industrial Distance', 'Industrial Zone', 'Place']\n",
        "\n",
        "data5.columns = ['Time', 'PM25', 'Humidnity', 'Temperature', 'Rush Hour', 'Hour', \n",
        "                'Day', 'Month', 'Year', 'Altitude', 'Airport Distance', 'Airport', \n",
        "                'Province', 'Industrial Distance', 'Industrial Zone', 'Place']\n",
        "\n",
        "data6.columns = ['Time', 'PM25', 'Humidnity', 'Temperature', 'Rush Hour', 'Hour', \n",
        "                'Day', 'Month', 'Year', 'Altitude', 'Airport Distance', 'Airport', \n",
        "                'Province', 'Industrial Distance', 'Industrial Zone', 'Place']\n",
        "\n",
        "data7.columns = ['Time', 'PM25', 'Humidnity', 'Temperature', 'Rush Hour', 'Hour', \n",
        "                'Day', 'Month', 'Year', 'Altitude', 'Airport Distance', 'Airport', \n",
        "                'Province', 'Industrial Distance', 'Industrial Zone', 'Place']\n",
        "\n",
        "data8.columns = ['Time', 'PM25', 'Humidnity', 'Temperature', 'Rush Hour', 'Hour', \n",
        "                'Day', 'Month', 'Year', 'Altitude', 'Airport Distance', 'Airport', \n",
        "                'Province', 'Industrial Distance', 'Industrial Zone', 'Place']\n",
        "\n",
        "data9.columns = ['Time', 'PM25', 'Humidnity', 'Temperature', 'Rush Hour', 'Hour', \n",
        "                'Day', 'Month', 'Year', 'Altitude', 'Airport Distance', 'Airport', \n",
        "                'Province', 'Industrial Distance', 'Industrial Zone', 'Place']\n",
        "\n",
        "data10.columns = ['Time', 'PM25', 'Humidnity', 'Temperature', 'Rush Hour', 'Hour', \n",
        "                'Day', 'Month', 'Year', 'Altitude', 'Airport Distance', 'Airport', \n",
        "                'Province', 'Industrial Distance', 'Industrial Zone', 'Place']"
      ]
    },
    {
      "cell_type": "code",
      "execution_count": null,
      "metadata": {
        "id": "2sU-o-eL8sbZ"
      },
      "outputs": [],
      "source": [
        "data = pd.concat([data1, data2])\n",
        "\n",
        "data = pd.concat([data, data3])\n",
        "\n",
        "data = pd.concat([data, data4])\n",
        "\n",
        "data = pd.concat([data, data5])\n",
        "\n",
        "data = pd.concat([data, data6])\n",
        "\n",
        "data = pd.concat([data, data7])\n",
        "\n",
        "data = pd.concat([data, data8])\n",
        "\n",
        "data = pd.concat([data, data9])\n",
        "\n",
        "data = pd.concat([data, data10])"
      ]
    },
    {
      "cell_type": "code",
      "execution_count": null,
      "metadata": {
        "colab": {
          "base_uri": "https://localhost:8080/"
        },
        "id": "LR3HwWza0s77",
        "outputId": "a9b0199c-1c5a-4442-f82b-92b070c479a9"
      },
      "outputs": [
        {
          "output_type": "stream",
          "name": "stdout",
          "text": [
            "<class 'pandas.core.frame.DataFrame'>\n",
            "Int64Index: 72384 entries, 0 to 6930\n",
            "Data columns (total 16 columns):\n",
            " #   Column               Non-Null Count  Dtype         \n",
            "---  ------               --------------  -----         \n",
            " 0   Time                 72384 non-null  datetime64[ns]\n",
            " 1   PM25                 71708 non-null  float64       \n",
            " 2   Humidnity            63788 non-null  float64       \n",
            " 3   Temperature          67189 non-null  float64       \n",
            " 4   Rush Hour            72384 non-null  int64         \n",
            " 5   Hour                 72384 non-null  int64         \n",
            " 6   Day                  72384 non-null  int64         \n",
            " 7   Month                72384 non-null  int64         \n",
            " 8   Year                 72384 non-null  int64         \n",
            " 9   Altitude             72384 non-null  int64         \n",
            " 10  Airport Distance     72384 non-null  int64         \n",
            " 11  Airport              72384 non-null  object        \n",
            " 12  Province             72384 non-null  object        \n",
            " 13  Industrial Distance  72384 non-null  int64         \n",
            " 14  Industrial Zone      72384 non-null  object        \n",
            " 15  Place                72384 non-null  object        \n",
            "dtypes: datetime64[ns](1), float64(3), int64(8), object(4)\n",
            "memory usage: 9.4+ MB\n"
          ]
        }
      ],
      "source": [
        "data.info()"
      ]
    },
    {
      "cell_type": "code",
      "source": [
        "# create excel writer object\n",
        "writer = pd.ExcelWriter('/content/drive/MyDrive/NCKH VNICT/Dataset/FullDataSet.xlsx')\n",
        "# write dataframe to excel\n",
        "data.to_excel(writer)\n",
        "# save the excel\n",
        "#writer.save()"
      ],
      "metadata": {
        "id": "bzvqSHCGR_Qv"
      },
      "execution_count": null,
      "outputs": []
    },
    {
      "cell_type": "code",
      "execution_count": null,
      "metadata": {
        "colab": {
          "base_uri": "https://localhost:8080/"
        },
        "id": "EdY5gkn7z3DJ",
        "outputId": "b0a5334c-6851-4b04-9e00-38bd4c48287e"
      },
      "outputs": [
        {
          "name": "stdout",
          "output_type": "stream",
          "text": [
            "Column name: [Time]\n",
            "2022-08-04 00:00:00    14\n",
            "2022-08-13 00:00:00    12\n",
            "2022-05-22 00:00:00    11\n",
            "2022-05-26 00:00:00    11\n",
            "2022-09-07 00:00:00    11\n",
            "                       ..\n",
            "2022-05-01 04:00:00     6\n",
            "2022-05-01 00:00:00     6\n",
            "2022-07-14 23:00:00     5\n",
            "2022-05-01 08:00:00     5\n",
            "2022-05-01 07:00:00     2\n",
            "Name: Time, Length: 7928, dtype: int64\n",
            " ************************************************************ \n",
            "\n",
            "Column name: [PM2.5]\n",
            "2.80     414\n",
            "3.10     409\n",
            "2.60     405\n",
            "2.90     399\n",
            "2.10     396\n",
            "        ... \n",
            "41.54      1\n",
            "65.15      1\n",
            "68.23      1\n",
            "87.52      1\n",
            "64.48      1\n",
            "Name: PM2.5, Length: 7057, dtype: int64\n",
            " ************************************************************ \n",
            "\n",
            "Column name: [Humidnity]\n",
            "99.00     8895\n",
            "75.00     5252\n",
            "99.99     2753\n",
            "100.00    2617\n",
            "99.10      326\n",
            "          ... \n",
            "63.88        1\n",
            "17.34        1\n",
            "15.66        1\n",
            "27.49        1\n",
            "52.97        1\n",
            "Name: Humidnity, Length: 4917, dtype: int64\n",
            " ************************************************************ \n",
            "\n",
            "Column name: [Temperature]\n",
            "27.80    500\n",
            "27.70    489\n",
            "27.90    484\n",
            "28.80    480\n",
            "28.20    476\n",
            "        ... \n",
            "41.96      1\n",
            "40.95      1\n",
            "12.11      1\n",
            "39.03      1\n",
            "10.53      1\n",
            "Name: Temperature, Length: 3067, dtype: int64\n",
            " ************************************************************ \n",
            "\n",
            "Column name: [Rush Hour]\n",
            "0     3045\n",
            "23    3029\n",
            "21    3027\n",
            "20    3027\n",
            "22    3025\n",
            "19    3025\n",
            "18    3025\n",
            "17    3024\n",
            "16    3023\n",
            "14    3020\n",
            "15    3020\n",
            "13    3018\n",
            "1     3016\n",
            "3     3016\n",
            "2     3014\n",
            "8     3009\n",
            "7     3009\n",
            "12    3009\n",
            "11    3007\n",
            "6     3006\n",
            "10    3003\n",
            "4     3002\n",
            "9     3000\n",
            "5     2985\n",
            "Name: Rush Hour, dtype: int64\n",
            " ************************************************************ \n",
            "\n",
            "Column name: [Hour]\n",
            "0    53755\n",
            "1    18629\n",
            "Name: Hour, dtype: int64\n",
            " ************************************************************ \n",
            "\n",
            "Column name: [Day]\n",
            "16    2462\n",
            "15    2461\n",
            "17    2446\n",
            "20    2437\n",
            "21    2432\n",
            "18    2430\n",
            "26    2426\n",
            "19    2423\n",
            "27    2422\n",
            "12    2420\n",
            "23    2414\n",
            "25    2402\n",
            "2     2398\n",
            "3     2397\n",
            "6     2395\n",
            "5     2392\n",
            "7     2390\n",
            "4     2389\n",
            "24    2386\n",
            "28    2382\n",
            "11    2380\n",
            "10    2380\n",
            "9     2380\n",
            "8     2355\n",
            "22    2352\n",
            "1     2334\n",
            "13    2239\n",
            "14    2213\n",
            "29    2178\n",
            "30    2010\n",
            "31    1259\n",
            "Name: Day, dtype: int64\n",
            " ************************************************************ \n",
            "\n",
            "Column name: [Month]\n",
            "5     7258\n",
            "6     7112\n",
            "8     6980\n",
            "7     6791\n",
            "12    6602\n",
            "10    6396\n",
            "4     6383\n",
            "11    6280\n",
            "9     6273\n",
            "2     6170\n",
            "1     6139\n",
            "Name: Month, dtype: int64\n",
            " ************************************************************ \n",
            "\n",
            "Column name: [Year]\n",
            "2022    60075\n",
            "2023    12309\n",
            "Name: Year, dtype: int64\n",
            " ************************************************************ \n",
            "\n",
            "Column name: [Altitude]\n",
            "29      7926\n",
            "62      7923\n",
            "309     7914\n",
            "663     7889\n",
            "74      7876\n",
            "0       7875\n",
            "27      7812\n",
            "18      6931\n",
            "1676    5342\n",
            "69      4896\n",
            "Name: Altitude, dtype: int64\n",
            " ************************************************************ \n",
            "\n",
            "Column name: [Airport Distance]\n",
            "8      15738\n",
            "19      7923\n",
            "156     7914\n",
            "170     7889\n",
            "34      7876\n",
            "5       7875\n",
            "3       6931\n",
            "6       5342\n",
            "21      4896\n",
            "Name: Airport Distance, dtype: int64\n",
            " ************************************************************ \n",
            "\n",
            "Column name: [Airport]\n",
            "Nội Bài          12785\n",
            "Tân Sơn Nhất      7926\n",
            "Đồng Hới          7923\n",
            "Điện Biên         7914\n",
            "Cát Bi            7876\n",
            "Rạch Giá          7875\n",
            "Đà Nẵng           7812\n",
            "Cà Mau            6931\n",
            "Buôn Ma Thuột     5342\n",
            "Name: Airport, dtype: int64\n",
            " ************************************************************ \n",
            "\n",
            "Column name: [Province]\n",
            "Thành phố Hồ Chí Minh    7926\n",
            "Quảng Bình               7923\n",
            "Lào Cai                  7914\n",
            "Cao Bằng                 7889\n",
            "Quảng Ninh               7876\n",
            "Kiên Giang               7875\n",
            "Đà Nẵng                  7812\n",
            "Cà Mau                   6931\n",
            "Đắk Lắk                  5342\n",
            "Hà Nội                   4896\n",
            "Name: Province, dtype: int64\n",
            " ************************************************************ \n",
            "\n",
            "Column name: [Industrial Distance]\n",
            "2      15803\n",
            "3      14807\n",
            "5      12822\n",
            "15      7923\n",
            "7       7875\n",
            "10      7812\n",
            "363     5342\n",
            "Name: Industrial Distance, dtype: int64\n",
            " ************************************************************ \n",
            "\n",
            "Column name: [Industrial Zone]\n",
            "Tân Thuận       7926\n",
            "Lý Trạch        7923\n",
            "Đông Phố Mới    7914\n",
            "Đề Thám         7889\n",
            "Việt Hưng       7876\n",
            "Thạnh Lộc       7875\n",
            "Đà Nẵng         7812\n",
            "Ngô Quyền       6931\n",
            "Tân An          5342\n",
            "Sài Đồng B      4896\n",
            "Name: Industrial Zone, dtype: int64\n",
            " ************************************************************ \n",
            "\n",
            "Column name: [Place]\n",
            "NetNam - Nguyễn Công Trứ                                                7926\n",
            "Trung Định                                                              7923\n",
            "Lý Công Uẩn                                                             7914\n",
            "Sông Bằng                                                               7889\n",
            "Hà Khẩu                                                                 7876\n",
            "Khu Đô thị Phú Cường                                                    7875\n",
            "Trường mầm non Ngọc Lan                                                 7812\n",
            "Trường Mẫu giáo Bông Hồng                                               6931\n",
            "Trung tâm Hỗ trợ phát triển giáo dục hòa nhập trẻ khuyết tật Đắk Lắk    5342\n",
            "Lý Thái Tổ                                                              4896\n",
            "Name: Place, dtype: int64\n",
            " ************************************************************ \n",
            "\n"
          ]
        }
      ],
      "source": [
        "# Understanding Unique value distribution\n",
        "for i in data.columns:\n",
        "    #print(i,'\\n',data[i].value_counts(),'\\n','***'*20,'\\n')\n",
        "    print(f'Column name: [{i}]\\n{data[i].value_counts()}\\n','***'*20,'\\n')"
      ]
    },
    {
      "cell_type": "markdown",
      "metadata": {
        "id": "XWBFNZSP1UsB"
      },
      "source": [
        "# II. Processing the data "
      ]
    },
    {
      "cell_type": "markdown",
      "metadata": {
        "id": "FfQ8uL7h1ZZ8"
      },
      "source": [
        "## Convert the alphabetical data into numeric"
      ]
    },
    {
      "cell_type": "code",
      "execution_count": null,
      "metadata": {
        "id": "mhInK7R40sz5"
      },
      "outputs": [],
      "source": [
        "# Set name of column \n",
        "data.columns = ['The name of column']"
      ]
    },
    {
      "cell_type": "code",
      "execution_count": null,
      "metadata": {
        "id": "SbEZwucI0s2m"
      },
      "outputs": [],
      "source": [
        "# Change values in ... to ... (Buổi)\n",
        "data.name_of_the_column = data.name_of_the_column.replace({thing we want to replace: the replace value})"
      ]
    },
    {
      "cell_type": "markdown",
      "metadata": {
        "id": "Rpvva8JX5uqs"
      },
      "source": [
        "## Check null values\n"
      ]
    },
    {
      "cell_type": "code",
      "execution_count": null,
      "metadata": {
        "colab": {
          "base_uri": "https://localhost:8080/"
        },
        "id": "jDfPRclY5uUp",
        "outputId": "ae031c0d-ddea-4666-a90f-e235b2e4b9d8"
      },
      "outputs": [
        {
          "data": {
            "text/plain": [
              "Time                      0\n",
              "PM2.5                   676\n",
              "Humidnity              8596\n",
              "Temperature            5195\n",
              "Rush Hour                 0\n",
              "Hour                      0\n",
              "Day                       0\n",
              "Month                     0\n",
              "Year                      0\n",
              "Altitude                  0\n",
              "Airport Distance          0\n",
              "Airport                   0\n",
              "Province                  0\n",
              "Industrial Distance       0\n",
              "Industrial Zone           0\n",
              "Place                     0\n",
              "dtype: int64"
            ]
          },
          "execution_count": 31,
          "metadata": {},
          "output_type": "execute_result"
        }
      ],
      "source": [
        "# Check null values in each column\n",
        "data.isnull().sum()"
      ]
    },
    {
      "cell_type": "markdown",
      "metadata": {
        "id": "8zPcYKcW2qtE"
      },
      "source": [
        "## Detect outliers and influential cases"
      ]
    },
    {
      "cell_type": "code",
      "execution_count": null,
      "metadata": {
        "id": "mmpz8EiTCEN-"
      },
      "outputs": [],
      "source": [
        "# Drop object column\n",
        "data.drop(['Time', 'Airport', 'Province', 'Industrial Zone', 'Place'], axis='columns', inplace=True)"
      ]
    },
    {
      "cell_type": "code",
      "execution_count": null,
      "metadata": {
        "colab": {
          "base_uri": "https://localhost:8080/",
          "height": 300
        },
        "id": "4YUd-nhp0s5F",
        "outputId": "1d157451-929b-41c6-b67f-9816c363c524"
      },
      "outputs": [
        {
          "data": {
            "text/html": [
              "\n",
              "  <div id=\"df-cd9682f1-7be8-405b-b1ee-d900016acc51\">\n",
              "    <div class=\"colab-df-container\">\n",
              "      <div>\n",
              "<style scoped>\n",
              "    .dataframe tbody tr th:only-of-type {\n",
              "        vertical-align: middle;\n",
              "    }\n",
              "\n",
              "    .dataframe tbody tr th {\n",
              "        vertical-align: top;\n",
              "    }\n",
              "\n",
              "    .dataframe thead th {\n",
              "        text-align: right;\n",
              "    }\n",
              "</style>\n",
              "<table border=\"1\" class=\"dataframe\">\n",
              "  <thead>\n",
              "    <tr style=\"text-align: right;\">\n",
              "      <th></th>\n",
              "      <th>PM2.5</th>\n",
              "      <th>Humidnity</th>\n",
              "      <th>Temperature</th>\n",
              "      <th>Rush Hour</th>\n",
              "      <th>Hour</th>\n",
              "      <th>Day</th>\n",
              "      <th>Month</th>\n",
              "      <th>Year</th>\n",
              "      <th>Altitude</th>\n",
              "      <th>Airport Distance</th>\n",
              "      <th>Industrial Distance</th>\n",
              "    </tr>\n",
              "  </thead>\n",
              "  <tbody>\n",
              "    <tr>\n",
              "      <th>count</th>\n",
              "      <td>71708.000000</td>\n",
              "      <td>63788.000000</td>\n",
              "      <td>67189.000000</td>\n",
              "      <td>72384.000000</td>\n",
              "      <td>72384.000000</td>\n",
              "      <td>72384.000000</td>\n",
              "      <td>72384.000000</td>\n",
              "      <td>72384.000000</td>\n",
              "      <td>72384.000000</td>\n",
              "      <td>72384.000000</td>\n",
              "      <td>72384.000000</td>\n",
              "    </tr>\n",
              "    <tr>\n",
              "      <th>mean</th>\n",
              "      <td>15.504482</td>\n",
              "      <td>86.262028</td>\n",
              "      <td>28.332920</td>\n",
              "      <td>11.511522</td>\n",
              "      <td>0.257364</td>\n",
              "      <td>15.694366</td>\n",
              "      <td>6.839509</td>\n",
              "      <td>2022.170051</td>\n",
              "      <td>257.051766</td>\n",
              "      <td>45.797068</td>\n",
              "      <td>32.208402</td>\n",
              "    </tr>\n",
              "    <tr>\n",
              "      <th>std</th>\n",
              "      <td>18.019293</td>\n",
              "      <td>13.318634</td>\n",
              "      <td>5.447461</td>\n",
              "      <td>6.928949</td>\n",
              "      <td>0.437184</td>\n",
              "      <td>8.757011</td>\n",
              "      <td>3.370205</td>\n",
              "      <td>0.375681</td>\n",
              "      <td>448.463453</td>\n",
              "      <td>62.677444</td>\n",
              "      <td>93.462809</td>\n",
              "    </tr>\n",
              "    <tr>\n",
              "      <th>min</th>\n",
              "      <td>0.000000</td>\n",
              "      <td>9.940000</td>\n",
              "      <td>5.380000</td>\n",
              "      <td>0.000000</td>\n",
              "      <td>0.000000</td>\n",
              "      <td>1.000000</td>\n",
              "      <td>1.000000</td>\n",
              "      <td>2022.000000</td>\n",
              "      <td>0.000000</td>\n",
              "      <td>3.000000</td>\n",
              "      <td>2.000000</td>\n",
              "    </tr>\n",
              "    <tr>\n",
              "      <th>25%</th>\n",
              "      <td>4.100000</td>\n",
              "      <td>75.427500</td>\n",
              "      <td>25.500000</td>\n",
              "      <td>6.000000</td>\n",
              "      <td>0.000000</td>\n",
              "      <td>8.000000</td>\n",
              "      <td>4.000000</td>\n",
              "      <td>2022.000000</td>\n",
              "      <td>27.000000</td>\n",
              "      <td>6.000000</td>\n",
              "      <td>3.000000</td>\n",
              "    </tr>\n",
              "    <tr>\n",
              "      <th>50%</th>\n",
              "      <td>9.200000</td>\n",
              "      <td>89.525000</td>\n",
              "      <td>28.400000</td>\n",
              "      <td>12.000000</td>\n",
              "      <td>0.000000</td>\n",
              "      <td>16.000000</td>\n",
              "      <td>7.000000</td>\n",
              "      <td>2022.000000</td>\n",
              "      <td>62.000000</td>\n",
              "      <td>19.000000</td>\n",
              "      <td>5.000000</td>\n",
              "    </tr>\n",
              "    <tr>\n",
              "      <th>75%</th>\n",
              "      <td>20.230000</td>\n",
              "      <td>99.000000</td>\n",
              "      <td>31.640000</td>\n",
              "      <td>18.000000</td>\n",
              "      <td>1.000000</td>\n",
              "      <td>23.000000</td>\n",
              "      <td>10.000000</td>\n",
              "      <td>2022.000000</td>\n",
              "      <td>309.000000</td>\n",
              "      <td>34.000000</td>\n",
              "      <td>10.000000</td>\n",
              "    </tr>\n",
              "    <tr>\n",
              "      <th>max</th>\n",
              "      <td>317.250000</td>\n",
              "      <td>100.000000</td>\n",
              "      <td>46.900000</td>\n",
              "      <td>23.000000</td>\n",
              "      <td>1.000000</td>\n",
              "      <td>31.000000</td>\n",
              "      <td>12.000000</td>\n",
              "      <td>2023.000000</td>\n",
              "      <td>1676.000000</td>\n",
              "      <td>170.000000</td>\n",
              "      <td>363.000000</td>\n",
              "    </tr>\n",
              "  </tbody>\n",
              "</table>\n",
              "</div>\n",
              "      <button class=\"colab-df-convert\" onclick=\"convertToInteractive('df-cd9682f1-7be8-405b-b1ee-d900016acc51')\"\n",
              "              title=\"Convert this dataframe to an interactive table.\"\n",
              "              style=\"display:none;\">\n",
              "        \n",
              "  <svg xmlns=\"http://www.w3.org/2000/svg\" height=\"24px\"viewBox=\"0 0 24 24\"\n",
              "       width=\"24px\">\n",
              "    <path d=\"M0 0h24v24H0V0z\" fill=\"none\"/>\n",
              "    <path d=\"M18.56 5.44l.94 2.06.94-2.06 2.06-.94-2.06-.94-.94-2.06-.94 2.06-2.06.94zm-11 1L8.5 8.5l.94-2.06 2.06-.94-2.06-.94L8.5 2.5l-.94 2.06-2.06.94zm10 10l.94 2.06.94-2.06 2.06-.94-2.06-.94-.94-2.06-.94 2.06-2.06.94z\"/><path d=\"M17.41 7.96l-1.37-1.37c-.4-.4-.92-.59-1.43-.59-.52 0-1.04.2-1.43.59L10.3 9.45l-7.72 7.72c-.78.78-.78 2.05 0 2.83L4 21.41c.39.39.9.59 1.41.59.51 0 1.02-.2 1.41-.59l7.78-7.78 2.81-2.81c.8-.78.8-2.07 0-2.86zM5.41 20L4 18.59l7.72-7.72 1.47 1.35L5.41 20z\"/>\n",
              "  </svg>\n",
              "      </button>\n",
              "      \n",
              "  <style>\n",
              "    .colab-df-container {\n",
              "      display:flex;\n",
              "      flex-wrap:wrap;\n",
              "      gap: 12px;\n",
              "    }\n",
              "\n",
              "    .colab-df-convert {\n",
              "      background-color: #E8F0FE;\n",
              "      border: none;\n",
              "      border-radius: 50%;\n",
              "      cursor: pointer;\n",
              "      display: none;\n",
              "      fill: #1967D2;\n",
              "      height: 32px;\n",
              "      padding: 0 0 0 0;\n",
              "      width: 32px;\n",
              "    }\n",
              "\n",
              "    .colab-df-convert:hover {\n",
              "      background-color: #E2EBFA;\n",
              "      box-shadow: 0px 1px 2px rgba(60, 64, 67, 0.3), 0px 1px 3px 1px rgba(60, 64, 67, 0.15);\n",
              "      fill: #174EA6;\n",
              "    }\n",
              "\n",
              "    [theme=dark] .colab-df-convert {\n",
              "      background-color: #3B4455;\n",
              "      fill: #D2E3FC;\n",
              "    }\n",
              "\n",
              "    [theme=dark] .colab-df-convert:hover {\n",
              "      background-color: #434B5C;\n",
              "      box-shadow: 0px 1px 3px 1px rgba(0, 0, 0, 0.15);\n",
              "      filter: drop-shadow(0px 1px 2px rgba(0, 0, 0, 0.3));\n",
              "      fill: #FFFFFF;\n",
              "    }\n",
              "  </style>\n",
              "\n",
              "      <script>\n",
              "        const buttonEl =\n",
              "          document.querySelector('#df-cd9682f1-7be8-405b-b1ee-d900016acc51 button.colab-df-convert');\n",
              "        buttonEl.style.display =\n",
              "          google.colab.kernel.accessAllowed ? 'block' : 'none';\n",
              "\n",
              "        async function convertToInteractive(key) {\n",
              "          const element = document.querySelector('#df-cd9682f1-7be8-405b-b1ee-d900016acc51');\n",
              "          const dataTable =\n",
              "            await google.colab.kernel.invokeFunction('convertToInteractive',\n",
              "                                                     [key], {});\n",
              "          if (!dataTable) return;\n",
              "\n",
              "          const docLinkHtml = 'Like what you see? Visit the ' +\n",
              "            '<a target=\"_blank\" href=https://colab.research.google.com/notebooks/data_table.ipynb>data table notebook</a>'\n",
              "            + ' to learn more about interactive tables.';\n",
              "          element.innerHTML = '';\n",
              "          dataTable['output_type'] = 'display_data';\n",
              "          await google.colab.output.renderOutput(dataTable, element);\n",
              "          const docLink = document.createElement('div');\n",
              "          docLink.innerHTML = docLinkHtml;\n",
              "          element.appendChild(docLink);\n",
              "        }\n",
              "      </script>\n",
              "    </div>\n",
              "  </div>\n",
              "  "
            ],
            "text/plain": [
              "              PM2.5     Humidnity   Temperature     Rush Hour          Hour  \\\n",
              "count  71708.000000  63788.000000  67189.000000  72384.000000  72384.000000   \n",
              "mean      15.504482     86.262028     28.332920     11.511522      0.257364   \n",
              "std       18.019293     13.318634      5.447461      6.928949      0.437184   \n",
              "min        0.000000      9.940000      5.380000      0.000000      0.000000   \n",
              "25%        4.100000     75.427500     25.500000      6.000000      0.000000   \n",
              "50%        9.200000     89.525000     28.400000     12.000000      0.000000   \n",
              "75%       20.230000     99.000000     31.640000     18.000000      1.000000   \n",
              "max      317.250000    100.000000     46.900000     23.000000      1.000000   \n",
              "\n",
              "                Day         Month          Year      Altitude  \\\n",
              "count  72384.000000  72384.000000  72384.000000  72384.000000   \n",
              "mean      15.694366      6.839509   2022.170051    257.051766   \n",
              "std        8.757011      3.370205      0.375681    448.463453   \n",
              "min        1.000000      1.000000   2022.000000      0.000000   \n",
              "25%        8.000000      4.000000   2022.000000     27.000000   \n",
              "50%       16.000000      7.000000   2022.000000     62.000000   \n",
              "75%       23.000000     10.000000   2022.000000    309.000000   \n",
              "max       31.000000     12.000000   2023.000000   1676.000000   \n",
              "\n",
              "       Airport Distance  Industrial Distance  \n",
              "count      72384.000000         72384.000000  \n",
              "mean          45.797068            32.208402  \n",
              "std           62.677444            93.462809  \n",
              "min            3.000000             2.000000  \n",
              "25%            6.000000             3.000000  \n",
              "50%           19.000000             5.000000  \n",
              "75%           34.000000            10.000000  \n",
              "max          170.000000           363.000000  "
            ]
          },
          "execution_count": 36,
          "metadata": {},
          "output_type": "execute_result"
        }
      ],
      "source": [
        "data.describe()"
      ]
    },
    {
      "cell_type": "code",
      "execution_count": null,
      "metadata": {
        "colab": {
          "base_uri": "https://localhost:8080/",
          "height": 1000
        },
        "id": "Wh2iSVZc0sw-",
        "outputId": "1fab3f80-77ac-4e6f-b968-b7c081eb91b5"
      },
      "outputs": [
        {
          "data": {
            "image/png": "[encoded data removed]",
            "text/plain": [
              "<Figure size 1500x1000 with 12 Axes>"
            ]
          },
          "metadata": {},
          "output_type": "display_data"
        }
      ],
      "source": [
        "# Using box plot to detect outlier.\n",
        "fig, axs = plt.subplots(ncols = 6, nrows = 2, figsize=(15, 10))\n",
        "index = 0\n",
        "axs = axs.flatten()\n",
        "for k,v in data.items():\n",
        "    sns.boxplot(y=k, data=data, ax=axs[index])\n",
        "    index += 1\n",
        "plt.tight_layout(pad=0.4, w_pad=0.5, h_pad=5.0)"
      ]
    },
    {
      "cell_type": "code",
      "execution_count": null,
      "metadata": {
        "colab": {
          "base_uri": "https://localhost:8080/"
        },
        "id": "esQ8FWZEA-7S",
        "outputId": "27489593-6ca9-47a8-d66d-83151a3470db"
      },
      "outputs": [
        {
          "name": "stdout",
          "output_type": "stream",
          "text": [
            "Column PM2.5 outliers = 6.59%\n",
            "Column Humidnity outliers = 0.55%\n",
            "Column Temperature outliers = 3.48%\n",
            "Column Rush Hour outliers = 0.00%\n",
            "Column Hour outliers = 0.00%\n",
            "Column Day outliers = 0.00%\n",
            "Column Month outliers = 0.00%\n",
            "Column Year outliers = 100.00%\n",
            "Column Altitude outliers = 7.38%\n",
            "Column Airport Distance outliers = 21.83%\n",
            "Column Industrial Distance outliers = 7.38%\n"
          ]
        }
      ],
      "source": [
        "# Check the percentages of outliers in each column\n",
        "for k, v in data.items():\n",
        "  q1 = v.quantile(0.25)\n",
        "  q3 = v.quantile(0.75)\n",
        "  irq = q3 - q1\n",
        "  v_col = v[(v <= q1 - 1.5 * irq) | (v >= q3 + 1.5 * irq)]\n",
        "  perc = np.shape(v_col)[0] * 100.0 / np.shape(data)[0]\n",
        "  print(\"Column %s outliers = %.2f%%\" % (k, perc))"
      ]
    },
    {
      "cell_type": "markdown",
      "metadata": {
        "id": "mo_VD-Zx7cb7"
      },
      "source": [
        "## Feature Selection"
      ]
    },
    {
      "cell_type": "code",
      "execution_count": null,
      "metadata": {
        "colab": {
          "base_uri": "https://localhost:8080/",
          "height": 429
        },
        "id": "DhM_W9EM0suG",
        "outputId": "31dab0fb-e4e3-43b1-b4b3-aa2e968e8c11"
      },
      "outputs": [
        {
          "name": "stderr",
          "output_type": "stream",
          "text": [
            "<ipython-input-47-ae935b33474c>:3: FutureWarning: this method is deprecated in favour of `Styler.format(precision=..)`\n",
            "  corr.style.background_gradient(cmap='coolwarm').set_precision(2)\n"
          ]
        },
        {
          "data": {
            "text/html": [
              "<style type=\"text/css\">\n",
              "#T_a5de5_row0_col0, #T_a5de5_row1_col1, #T_a5de5_row2_col2, #T_a5de5_row3_col3, #T_a5de5_row4_col4, #T_a5de5_row5_col5, #T_a5de5_row6_col6, #T_a5de5_row7_col7, #T_a5de5_row8_col8, #T_a5de5_row9_col9, #T_a5de5_row10_col10 {\n",
              "  background-color: #b40426;\n",
              "  color: #f1f1f1;\n",
              "}\n",
              "#T_a5de5_row0_col1 {\n",
              "  background-color: #688aef;\n",
              "  color: #f1f1f1;\n",
              "}\n",
              "#T_a5de5_row0_col2 {\n",
              "  background-color: #7597f6;\n",
              "  color: #f1f1f1;\n",
              "}\n",
              "#T_a5de5_row0_col3, #T_a5de5_row5_col3, #T_a5de5_row7_col3, #T_a5de5_row8_col3, #T_a5de5_row10_col3 {\n",
              "  background-color: #7295f4;\n",
              "  color: #f1f1f1;\n",
              "}\n",
              "#T_a5de5_row0_col4, #T_a5de5_row2_col4, #T_a5de5_row3_col1 {\n",
              "  background-color: #6282ea;\n",
              "  color: #f1f1f1;\n",
              "}\n",
              "#T_a5de5_row0_col5, #T_a5de5_row2_col5, #T_a5de5_row8_col0 {\n",
              "  background-color: #4961d2;\n",
              "  color: #f1f1f1;\n",
              "}\n",
              "#T_a5de5_row0_col6, #T_a5de5_row8_col6 {\n",
              "  background-color: #bed2f6;\n",
              "  color: #000000;\n",
              "}\n",
              "#T_a5de5_row0_col7 {\n",
              "  background-color: #e1dad6;\n",
              "  color: #000000;\n",
              "}\n",
              "#T_a5de5_row0_col8 {\n",
              "  background-color: #6687ed;\n",
              "  color: #f1f1f1;\n",
              "}\n",
              "#T_a5de5_row0_col9, #T_a5de5_row4_col9 {\n",
              "  background-color: #93b5fe;\n",
              "  color: #000000;\n",
              "}\n",
              "#T_a5de5_row0_col10 {\n",
              "  background-color: #3f53c6;\n",
              "  color: #f1f1f1;\n",
              "}\n",
              "#T_a5de5_row1_col0, #T_a5de5_row1_col2, #T_a5de5_row1_col3, #T_a5de5_row1_col4, #T_a5de5_row2_col1, #T_a5de5_row2_col8, #T_a5de5_row2_col9, #T_a5de5_row6_col7, #T_a5de5_row7_col5, #T_a5de5_row7_col6, #T_a5de5_row9_col10, #T_a5de5_row10_col0 {\n",
              "  background-color: #3b4cc0;\n",
              "  color: #f1f1f1;\n",
              "}\n",
              "#T_a5de5_row1_col5, #T_a5de5_row3_col5 {\n",
              "  background-color: #4257c9;\n",
              "  color: #f1f1f1;\n",
              "}\n",
              "#T_a5de5_row1_col6 {\n",
              "  background-color: #ccd9ed;\n",
              "  color: #000000;\n",
              "}\n",
              "#T_a5de5_row1_col7, #T_a5de5_row5_col7 {\n",
              "  background-color: #c1d4f4;\n",
              "  color: #000000;\n",
              "}\n",
              "#T_a5de5_row1_col8 {\n",
              "  background-color: #a2c1ff;\n",
              "  color: #000000;\n",
              "}\n",
              "#T_a5de5_row1_col9, #T_a5de5_row6_col0 {\n",
              "  background-color: #5e7de7;\n",
              "  color: #f1f1f1;\n",
              "}\n",
              "#T_a5de5_row1_col10 {\n",
              "  background-color: #9fbfff;\n",
              "  color: #000000;\n",
              "}\n",
              "#T_a5de5_row2_col0 {\n",
              "  background-color: #465ecf;\n",
              "  color: #f1f1f1;\n",
              "}\n",
              "#T_a5de5_row2_col3 {\n",
              "  background-color: #a6c4fe;\n",
              "  color: #000000;\n",
              "}\n",
              "#T_a5de5_row2_col6 {\n",
              "  background-color: #d3dbe7;\n",
              "  color: #000000;\n",
              "}\n",
              "#T_a5de5_row2_col7, #T_a5de5_row7_col1 {\n",
              "  background-color: #90b2fe;\n",
              "  color: #000000;\n",
              "}\n",
              "#T_a5de5_row2_col10 {\n",
              "  background-color: #485fd1;\n",
              "  color: #f1f1f1;\n",
              "}\n",
              "#T_a5de5_row3_col0 {\n",
              "  background-color: #6c8ff1;\n",
              "  color: #f1f1f1;\n",
              "}\n",
              "#T_a5de5_row3_col2 {\n",
              "  background-color: #c3d5f4;\n",
              "  color: #000000;\n",
              "}\n",
              "#T_a5de5_row3_col4 {\n",
              "  background-color: #7ea1fa;\n",
              "  color: #f1f1f1;\n",
              "}\n",
              "#T_a5de5_row3_col6, #T_a5de5_row3_col7, #T_a5de5_row4_col6, #T_a5de5_row4_col7, #T_a5de5_row9_col7 {\n",
              "  background-color: #c5d6f2;\n",
              "  color: #000000;\n",
              "}\n",
              "#T_a5de5_row3_col8, #T_a5de5_row3_col9, #T_a5de5_row5_col9, #T_a5de5_row7_col9 {\n",
              "  background-color: #86a9fc;\n",
              "  color: #f1f1f1;\n",
              "}\n",
              "#T_a5de5_row3_col10, #T_a5de5_row9_col1 {\n",
              "  background-color: #6f92f3;\n",
              "  color: #f1f1f1;\n",
              "}\n",
              "#T_a5de5_row4_col0 {\n",
              "  background-color: #7b9ff9;\n",
              "  color: #f1f1f1;\n",
              "}\n",
              "#T_a5de5_row4_col1 {\n",
              "  background-color: #81a4fb;\n",
              "  color: #f1f1f1;\n",
              "}\n",
              "#T_a5de5_row4_col2 {\n",
              "  background-color: #a5c3fe;\n",
              "  color: #000000;\n",
              "}\n",
              "#T_a5de5_row4_col3 {\n",
              "  background-color: #9bbcff;\n",
              "  color: #000000;\n",
              "}\n",
              "#T_a5de5_row4_col5, #T_a5de5_row9_col5 {\n",
              "  background-color: #4055c8;\n",
              "  color: #f1f1f1;\n",
              "}\n",
              "#T_a5de5_row4_col8, #T_a5de5_row5_col8 {\n",
              "  background-color: #8badfd;\n",
              "  color: #000000;\n",
              "}\n",
              "#T_a5de5_row4_col10 {\n",
              "  background-color: #6e90f2;\n",
              "  color: #f1f1f1;\n",
              "}\n",
              "#T_a5de5_row5_col0, #T_a5de5_row5_col10 {\n",
              "  background-color: #7396f5;\n",
              "  color: #f1f1f1;\n",
              "}\n",
              "#T_a5de5_row5_col1 {\n",
              "  background-color: #97b8ff;\n",
              "  color: #000000;\n",
              "}\n",
              "#T_a5de5_row5_col2, #T_a5de5_row7_col0 {\n",
              "  background-color: #9ebeff;\n",
              "  color: #000000;\n",
              "}\n",
              "#T_a5de5_row5_col4, #T_a5de5_row6_col4, #T_a5de5_row7_col4 {\n",
              "  background-color: #516ddb;\n",
              "  color: #f1f1f1;\n",
              "}\n",
              "#T_a5de5_row5_col6 {\n",
              "  background-color: #c7d7f0;\n",
              "  color: #000000;\n",
              "}\n",
              "#T_a5de5_row6_col1 {\n",
              "  background-color: #a1c0ff;\n",
              "  color: #000000;\n",
              "}\n",
              "#T_a5de5_row6_col2 {\n",
              "  background-color: #a9c6fd;\n",
              "  color: #000000;\n",
              "}\n",
              "#T_a5de5_row6_col3, #T_a5de5_row9_col3, #T_a5de5_row10_col2 {\n",
              "  background-color: #7093f3;\n",
              "  color: #f1f1f1;\n",
              "}\n",
              "#T_a5de5_row6_col5, #T_a5de5_row8_col5, #T_a5de5_row10_col5 {\n",
              "  background-color: #445acc;\n",
              "  color: #f1f1f1;\n",
              "}\n",
              "#T_a5de5_row6_col8 {\n",
              "  background-color: #7a9df8;\n",
              "  color: #f1f1f1;\n",
              "}\n",
              "#T_a5de5_row6_col9 {\n",
              "  background-color: #89acfd;\n",
              "  color: #000000;\n",
              "}\n",
              "#T_a5de5_row6_col10 {\n",
              "  background-color: #6180e9;\n",
              "  color: #f1f1f1;\n",
              "}\n",
              "#T_a5de5_row7_col2 {\n",
              "  background-color: #5470de;\n",
              "  color: #f1f1f1;\n",
              "}\n",
              "#T_a5de5_row7_col8 {\n",
              "  background-color: #8db0fe;\n",
              "  color: #000000;\n",
              "}\n",
              "#T_a5de5_row7_col10, #T_a5de5_row9_col0 {\n",
              "  background-color: #779af7;\n",
              "  color: #f1f1f1;\n",
              "}\n",
              "#T_a5de5_row8_col1 {\n",
              "  background-color: #afcafc;\n",
              "  color: #000000;\n",
              "}\n",
              "#T_a5de5_row8_col2, #T_a5de5_row9_col2 {\n",
              "  background-color: #4b64d5;\n",
              "  color: #f1f1f1;\n",
              "}\n",
              "#T_a5de5_row8_col4 {\n",
              "  background-color: #5572df;\n",
              "  color: #f1f1f1;\n",
              "}\n",
              "#T_a5de5_row8_col7 {\n",
              "  background-color: #cad8ef;\n",
              "  color: #000000;\n",
              "}\n",
              "#T_a5de5_row8_col9, #T_a5de5_row9_col8 {\n",
              "  background-color: #c9d7f0;\n",
              "  color: #000000;\n",
              "}\n",
              "#T_a5de5_row8_col10 {\n",
              "  background-color: #d55042;\n",
              "  color: #f1f1f1;\n",
              "}\n",
              "#T_a5de5_row9_col4 {\n",
              "  background-color: #5f7fe8;\n",
              "  color: #f1f1f1;\n",
              "}\n",
              "#T_a5de5_row9_col6 {\n",
              "  background-color: #c6d6f1;\n",
              "  color: #000000;\n",
              "}\n",
              "#T_a5de5_row10_col1 {\n",
              "  background-color: #bfd3f6;\n",
              "  color: #000000;\n",
              "}\n",
              "#T_a5de5_row10_col4 {\n",
              "  background-color: #4f69d9;\n",
              "  color: #f1f1f1;\n",
              "}\n",
              "#T_a5de5_row10_col6 {\n",
              "  background-color: #bcd2f7;\n",
              "  color: #000000;\n",
              "}\n",
              "#T_a5de5_row10_col7 {\n",
              "  background-color: #cbd8ee;\n",
              "  color: #000000;\n",
              "}\n",
              "#T_a5de5_row10_col8 {\n",
              "  background-color: #d24b40;\n",
              "  color: #f1f1f1;\n",
              "}\n",
              "#T_a5de5_row10_col9 {\n",
              "  background-color: #536edd;\n",
              "  color: #f1f1f1;\n",
              "}\n",
              "</style>\n",
              "<table id=\"T_a5de5\" class=\"dataframe\">\n",
              "  <thead>\n",
              "    <tr>\n",
              "      <th class=\"blank level0\" >&nbsp;</th>\n",
              "      <th id=\"T_a5de5_level0_col0\" class=\"col_heading level0 col0\" >PM2.5</th>\n",
              "      <th id=\"T_a5de5_level0_col1\" class=\"col_heading level0 col1\" >Humidnity</th>\n",
              "      <th id=\"T_a5de5_level0_col2\" class=\"col_heading level0 col2\" >Temperature</th>\n",
              "      <th id=\"T_a5de5_level0_col3\" class=\"col_heading level0 col3\" >Rush Hour</th>\n",
              "      <th id=\"T_a5de5_level0_col4\" class=\"col_heading level0 col4\" >Hour</th>\n",
              "      <th id=\"T_a5de5_level0_col5\" class=\"col_heading level0 col5\" >Day</th>\n",
              "      <th id=\"T_a5de5_level0_col6\" class=\"col_heading level0 col6\" >Month</th>\n",
              "      <th id=\"T_a5de5_level0_col7\" class=\"col_heading level0 col7\" >Year</th>\n",
              "      <th id=\"T_a5de5_level0_col8\" class=\"col_heading level0 col8\" >Altitude</th>\n",
              "      <th id=\"T_a5de5_level0_col9\" class=\"col_heading level0 col9\" >Airport Distance</th>\n",
              "      <th id=\"T_a5de5_level0_col10\" class=\"col_heading level0 col10\" >Industrial Distance</th>\n",
              "    </tr>\n",
              "  </thead>\n",
              "  <tbody>\n",
              "    <tr>\n",
              "      <th id=\"T_a5de5_level0_row0\" class=\"row_heading level0 row0\" >PM2.5</th>\n",
              "      <td id=\"T_a5de5_row0_col0\" class=\"data row0 col0\" >1.00</td>\n",
              "      <td id=\"T_a5de5_row0_col1\" class=\"data row0 col1\" >-0.18</td>\n",
              "      <td id=\"T_a5de5_row0_col2\" class=\"data row0 col2\" >-0.13</td>\n",
              "      <td id=\"T_a5de5_row0_col3\" class=\"data row0 col3\" >0.00</td>\n",
              "      <td id=\"T_a5de5_row0_col4\" class=\"data row0 col4\" >0.06</td>\n",
              "      <td id=\"T_a5de5_row0_col5\" class=\"data row0 col5\" >0.03</td>\n",
              "      <td id=\"T_a5de5_row0_col6\" class=\"data row0 col6\" >-0.04</td>\n",
              "      <td id=\"T_a5de5_row0_col7\" class=\"data row0 col7\" >0.17</td>\n",
              "      <td id=\"T_a5de5_row0_col8\" class=\"data row0 col8\" >-0.13</td>\n",
              "      <td id=\"T_a5de5_row0_col9\" class=\"data row0 col9\" >0.04</td>\n",
              "      <td id=\"T_a5de5_row0_col10\" class=\"data row0 col10\" >-0.18</td>\n",
              "    </tr>\n",
              "    <tr>\n",
              "      <th id=\"T_a5de5_level0_row1\" class=\"row_heading level0 row1\" >Humidnity</th>\n",
              "      <td id=\"T_a5de5_row1_col0\" class=\"data row1 col0\" >-0.18</td>\n",
              "      <td id=\"T_a5de5_row1_col1\" class=\"data row1 col1\" >1.00</td>\n",
              "      <td id=\"T_a5de5_row1_col2\" class=\"data row1 col2\" >-0.38</td>\n",
              "      <td id=\"T_a5de5_row1_col3\" class=\"data row1 col3\" >-0.21</td>\n",
              "      <td id=\"T_a5de5_row1_col4\" class=\"data row1 col4\" >-0.08</td>\n",
              "      <td id=\"T_a5de5_row1_col5\" class=\"data row1 col5\" >0.00</td>\n",
              "      <td id=\"T_a5de5_row1_col6\" class=\"data row1 col6\" >0.04</td>\n",
              "      <td id=\"T_a5de5_row1_col7\" class=\"data row1 col7\" >-0.02</td>\n",
              "      <td id=\"T_a5de5_row1_col8\" class=\"data row1 col8\" >0.10</td>\n",
              "      <td id=\"T_a5de5_row1_col9\" class=\"data row1 col9\" >-0.15</td>\n",
              "      <td id=\"T_a5de5_row1_col10\" class=\"data row1 col10\" >0.16</td>\n",
              "    </tr>\n",
              "    <tr>\n",
              "      <th id=\"T_a5de5_level0_row2\" class=\"row_heading level0 row2\" >Temperature</th>\n",
              "      <td id=\"T_a5de5_row2_col0\" class=\"data row2 col0\" >-0.13</td>\n",
              "      <td id=\"T_a5de5_row2_col1\" class=\"data row2 col1\" >-0.38</td>\n",
              "      <td id=\"T_a5de5_row2_col2\" class=\"data row2 col2\" >1.00</td>\n",
              "      <td id=\"T_a5de5_row2_col3\" class=\"data row2 col3\" >0.18</td>\n",
              "      <td id=\"T_a5de5_row2_col4\" class=\"data row2 col4\" >0.06</td>\n",
              "      <td id=\"T_a5de5_row2_col5\" class=\"data row2 col5\" >0.03</td>\n",
              "      <td id=\"T_a5de5_row2_col6\" class=\"data row2 col6\" >0.08</td>\n",
              "      <td id=\"T_a5de5_row2_col7\" class=\"data row2 col7\" >-0.27</td>\n",
              "      <td id=\"T_a5de5_row2_col8\" class=\"data row2 col8\" >-0.31</td>\n",
              "      <td id=\"T_a5de5_row2_col9\" class=\"data row2 col9\" >-0.30</td>\n",
              "      <td id=\"T_a5de5_row2_col10\" class=\"data row2 col10\" >-0.15</td>\n",
              "    </tr>\n",
              "    <tr>\n",
              "      <th id=\"T_a5de5_level0_row3\" class=\"row_heading level0 row3\" >Rush Hour</th>\n",
              "      <td id=\"T_a5de5_row3_col0\" class=\"data row3 col0\" >0.00</td>\n",
              "      <td id=\"T_a5de5_row3_col1\" class=\"data row3 col1\" >-0.21</td>\n",
              "      <td id=\"T_a5de5_row3_col2\" class=\"data row3 col2\" >0.18</td>\n",
              "      <td id=\"T_a5de5_row3_col3\" class=\"data row3 col3\" >1.00</td>\n",
              "      <td id=\"T_a5de5_row3_col4\" class=\"data row3 col4\" >0.14</td>\n",
              "      <td id=\"T_a5de5_row3_col5\" class=\"data row3 col5\" >0.00</td>\n",
              "      <td id=\"T_a5de5_row3_col6\" class=\"data row3 col6\" >-0.00</td>\n",
              "      <td id=\"T_a5de5_row3_col7\" class=\"data row3 col7\" >0.00</td>\n",
              "      <td id=\"T_a5de5_row3_col8\" class=\"data row3 col8\" >0.00</td>\n",
              "      <td id=\"T_a5de5_row3_col9\" class=\"data row3 col9\" >-0.00</td>\n",
              "      <td id=\"T_a5de5_row3_col10\" class=\"data row3 col10\" >0.00</td>\n",
              "    </tr>\n",
              "    <tr>\n",
              "      <th id=\"T_a5de5_level0_row4\" class=\"row_heading level0 row4\" >Hour</th>\n",
              "      <td id=\"T_a5de5_row4_col0\" class=\"data row4 col0\" >0.06</td>\n",
              "      <td id=\"T_a5de5_row4_col1\" class=\"data row4 col1\" >-0.08</td>\n",
              "      <td id=\"T_a5de5_row4_col2\" class=\"data row4 col2\" >0.06</td>\n",
              "      <td id=\"T_a5de5_row4_col3\" class=\"data row4 col3\" >0.14</td>\n",
              "      <td id=\"T_a5de5_row4_col4\" class=\"data row4 col4\" >1.00</td>\n",
              "      <td id=\"T_a5de5_row4_col5\" class=\"data row4 col5\" >0.00</td>\n",
              "      <td id=\"T_a5de5_row4_col6\" class=\"data row4 col6\" >-0.00</td>\n",
              "      <td id=\"T_a5de5_row4_col7\" class=\"data row4 col7\" >-0.00</td>\n",
              "      <td id=\"T_a5de5_row4_col8\" class=\"data row4 col8\" >0.01</td>\n",
              "      <td id=\"T_a5de5_row4_col9\" class=\"data row4 col9\" >0.04</td>\n",
              "      <td id=\"T_a5de5_row4_col10\" class=\"data row4 col10\" >-0.01</td>\n",
              "    </tr>\n",
              "    <tr>\n",
              "      <th id=\"T_a5de5_level0_row5\" class=\"row_heading level0 row5\" >Day</th>\n",
              "      <td id=\"T_a5de5_row5_col0\" class=\"data row5 col0\" >0.03</td>\n",
              "      <td id=\"T_a5de5_row5_col1\" class=\"data row5 col1\" >0.00</td>\n",
              "      <td id=\"T_a5de5_row5_col2\" class=\"data row5 col2\" >0.03</td>\n",
              "      <td id=\"T_a5de5_row5_col3\" class=\"data row5 col3\" >0.00</td>\n",
              "      <td id=\"T_a5de5_row5_col4\" class=\"data row5 col4\" >0.00</td>\n",
              "      <td id=\"T_a5de5_row5_col5\" class=\"data row5 col5\" >1.00</td>\n",
              "      <td id=\"T_a5de5_row5_col6\" class=\"data row5 col6\" >0.01</td>\n",
              "      <td id=\"T_a5de5_row5_col7\" class=\"data row5 col7\" >-0.02</td>\n",
              "      <td id=\"T_a5de5_row5_col8\" class=\"data row5 col8\" >0.01</td>\n",
              "      <td id=\"T_a5de5_row5_col9\" class=\"data row5 col9\" >-0.00</td>\n",
              "      <td id=\"T_a5de5_row5_col10\" class=\"data row5 col10\" >0.01</td>\n",
              "    </tr>\n",
              "    <tr>\n",
              "      <th id=\"T_a5de5_level0_row6\" class=\"row_heading level0 row6\" >Month</th>\n",
              "      <td id=\"T_a5de5_row6_col0\" class=\"data row6 col0\" >-0.04</td>\n",
              "      <td id=\"T_a5de5_row6_col1\" class=\"data row6 col1\" >0.04</td>\n",
              "      <td id=\"T_a5de5_row6_col2\" class=\"data row6 col2\" >0.08</td>\n",
              "      <td id=\"T_a5de5_row6_col3\" class=\"data row6 col3\" >-0.00</td>\n",
              "      <td id=\"T_a5de5_row6_col4\" class=\"data row6 col4\" >-0.00</td>\n",
              "      <td id=\"T_a5de5_row6_col5\" class=\"data row6 col5\" >0.01</td>\n",
              "      <td id=\"T_a5de5_row6_col6\" class=\"data row6 col6\" >1.00</td>\n",
              "      <td id=\"T_a5de5_row6_col7\" class=\"data row6 col7\" >-0.72</td>\n",
              "      <td id=\"T_a5de5_row6_col8\" class=\"data row6 col8\" >-0.05</td>\n",
              "      <td id=\"T_a5de5_row6_col9\" class=\"data row6 col9\" >0.01</td>\n",
              "      <td id=\"T_a5de5_row6_col10\" class=\"data row6 col10\" >-0.05</td>\n",
              "    </tr>\n",
              "    <tr>\n",
              "      <th id=\"T_a5de5_level0_row7\" class=\"row_heading level0 row7\" >Year</th>\n",
              "      <td id=\"T_a5de5_row7_col0\" class=\"data row7 col0\" >0.17</td>\n",
              "      <td id=\"T_a5de5_row7_col1\" class=\"data row7 col1\" >-0.02</td>\n",
              "      <td id=\"T_a5de5_row7_col2\" class=\"data row7 col2\" >-0.27</td>\n",
              "      <td id=\"T_a5de5_row7_col3\" class=\"data row7 col3\" >0.00</td>\n",
              "      <td id=\"T_a5de5_row7_col4\" class=\"data row7 col4\" >-0.00</td>\n",
              "      <td id=\"T_a5de5_row7_col5\" class=\"data row7 col5\" >-0.02</td>\n",
              "      <td id=\"T_a5de5_row7_col6\" class=\"data row7 col6\" >-0.72</td>\n",
              "      <td id=\"T_a5de5_row7_col7\" class=\"data row7 col7\" >1.00</td>\n",
              "      <td id=\"T_a5de5_row7_col8\" class=\"data row7 col8\" >0.03</td>\n",
              "      <td id=\"T_a5de5_row7_col9\" class=\"data row7 col9\" >-0.00</td>\n",
              "      <td id=\"T_a5de5_row7_col10\" class=\"data row7 col10\" >0.03</td>\n",
              "    </tr>\n",
              "    <tr>\n",
              "      <th id=\"T_a5de5_level0_row8\" class=\"row_heading level0 row8\" >Altitude</th>\n",
              "      <td id=\"T_a5de5_row8_col0\" class=\"data row8 col0\" >-0.13</td>\n",
              "      <td id=\"T_a5de5_row8_col1\" class=\"data row8 col1\" >0.10</td>\n",
              "      <td id=\"T_a5de5_row8_col2\" class=\"data row8 col2\" >-0.31</td>\n",
              "      <td id=\"T_a5de5_row8_col3\" class=\"data row8 col3\" >0.00</td>\n",
              "      <td id=\"T_a5de5_row8_col4\" class=\"data row8 col4\" >0.01</td>\n",
              "      <td id=\"T_a5de5_row8_col5\" class=\"data row8 col5\" >0.01</td>\n",
              "      <td id=\"T_a5de5_row8_col6\" class=\"data row8 col6\" >-0.05</td>\n",
              "      <td id=\"T_a5de5_row8_col7\" class=\"data row8 col7\" >0.03</td>\n",
              "      <td id=\"T_a5de5_row8_col8\" class=\"data row8 col8\" >1.00</td>\n",
              "      <td id=\"T_a5de5_row8_col9\" class=\"data row8 col9\" >0.25</td>\n",
              "      <td id=\"T_a5de5_row8_col10\" class=\"data row8 col10\" >0.88</td>\n",
              "    </tr>\n",
              "    <tr>\n",
              "      <th id=\"T_a5de5_level0_row9\" class=\"row_heading level0 row9\" >Airport Distance</th>\n",
              "      <td id=\"T_a5de5_row9_col0\" class=\"data row9 col0\" >0.04</td>\n",
              "      <td id=\"T_a5de5_row9_col1\" class=\"data row9 col1\" >-0.15</td>\n",
              "      <td id=\"T_a5de5_row9_col2\" class=\"data row9 col2\" >-0.30</td>\n",
              "      <td id=\"T_a5de5_row9_col3\" class=\"data row9 col3\" >-0.00</td>\n",
              "      <td id=\"T_a5de5_row9_col4\" class=\"data row9 col4\" >0.04</td>\n",
              "      <td id=\"T_a5de5_row9_col5\" class=\"data row9 col5\" >-0.00</td>\n",
              "      <td id=\"T_a5de5_row9_col6\" class=\"data row9 col6\" >0.01</td>\n",
              "      <td id=\"T_a5de5_row9_col7\" class=\"data row9 col7\" >-0.00</td>\n",
              "      <td id=\"T_a5de5_row9_col8\" class=\"data row9 col8\" >0.25</td>\n",
              "      <td id=\"T_a5de5_row9_col9\" class=\"data row9 col9\" >1.00</td>\n",
              "      <td id=\"T_a5de5_row9_col10\" class=\"data row9 col10\" >-0.20</td>\n",
              "    </tr>\n",
              "    <tr>\n",
              "      <th id=\"T_a5de5_level0_row10\" class=\"row_heading level0 row10\" >Industrial Distance</th>\n",
              "      <td id=\"T_a5de5_row10_col0\" class=\"data row10 col0\" >-0.18</td>\n",
              "      <td id=\"T_a5de5_row10_col1\" class=\"data row10 col1\" >0.16</td>\n",
              "      <td id=\"T_a5de5_row10_col2\" class=\"data row10 col2\" >-0.15</td>\n",
              "      <td id=\"T_a5de5_row10_col3\" class=\"data row10 col3\" >0.00</td>\n",
              "      <td id=\"T_a5de5_row10_col4\" class=\"data row10 col4\" >-0.01</td>\n",
              "      <td id=\"T_a5de5_row10_col5\" class=\"data row10 col5\" >0.01</td>\n",
              "      <td id=\"T_a5de5_row10_col6\" class=\"data row10 col6\" >-0.05</td>\n",
              "      <td id=\"T_a5de5_row10_col7\" class=\"data row10 col7\" >0.03</td>\n",
              "      <td id=\"T_a5de5_row10_col8\" class=\"data row10 col8\" >0.88</td>\n",
              "      <td id=\"T_a5de5_row10_col9\" class=\"data row10 col9\" >-0.20</td>\n",
              "      <td id=\"T_a5de5_row10_col10\" class=\"data row10 col10\" >1.00</td>\n",
              "    </tr>\n",
              "  </tbody>\n",
              "</table>\n"
            ],
            "text/plain": [
              "<pandas.io.formats.style.Styler at 0x7f40b4ad14b0>"
            ]
          },
          "execution_count": 47,
          "metadata": {},
          "output_type": "execute_result"
        }
      ],
      "source": [
        "# Using correlation matrix\n",
        "corr = data.corr()\n",
        "corr.style.background_gradient(cmap='coolwarm').set_precision(2)"
      ]
    },
    {
      "cell_type": "code",
      "execution_count": null,
      "metadata": {
        "colab": {
          "background_save": true,
          "base_uri": "https://localhost:8080/",
          "height": 345
        },
        "id": "WRVeTTYx09R_",
        "outputId": "2bdb155e-8aed-4e28-84cb-337b3ce2b239"
      },
      "outputs": [
        {
          "name": "stderr",
          "output_type": "stream",
          "text": [
            "/usr/local/lib/python3.10/dist-packages/seaborn/_oldcore.py:1134: FutureWarning: reindexing with a non-unique Index is deprecated and will raise in a future version.\n",
            "  comp_data.insert(0, var, comp_col)\n"
          ]
        },
        {
          "ename": "ValueError",
          "evalue": "ignored",
          "output_type": "error",
          "traceback": [
            "\u001b[0;31m---------------------------------------------------------------------------\u001b[0m",
            "\u001b[0;31mValueError\u001b[0m                                Traceback (most recent call last)",
            "\u001b[0;32m<ipython-input-48-9f33636b51d6>\u001b[0m in \u001b[0;36m<cell line: 1>\u001b[0;34m()\u001b[0m\n\u001b[0;32m----> 1\u001b[0;31m \u001b[0msns\u001b[0m\u001b[0;34m.\u001b[0m\u001b[0mpairplot\u001b[0m\u001b[0;34m(\u001b[0m\u001b[0mdata\u001b[0m\u001b[0;34m)\u001b[0m\u001b[0;34m\u001b[0m\u001b[0;34m\u001b[0m\u001b[0m\n\u001b[0m",
            "\u001b[0;32m/usr/local/lib/python3.10/dist-packages/seaborn/axisgrid.py\u001b[0m in \u001b[0;36mpairplot\u001b[0;34m(data, hue, hue_order, palette, vars, x_vars, y_vars, kind, diag_kind, markers, height, aspect, corner, dropna, plot_kws, diag_kws, grid_kws, size)\u001b[0m\n\u001b[1;32m   2142\u001b[0m     \u001b[0mdiag_kws\u001b[0m\u001b[0;34m.\u001b[0m\u001b[0msetdefault\u001b[0m\u001b[0;34m(\u001b[0m\u001b[0;34m\"legend\"\u001b[0m\u001b[0;34m,\u001b[0m \u001b[0;32mFalse\u001b[0m\u001b[0;34m)\u001b[0m\u001b[0;34m\u001b[0m\u001b[0;34m\u001b[0m\u001b[0m\n\u001b[1;32m   2143\u001b[0m     \u001b[0;32mif\u001b[0m \u001b[0mdiag_kind\u001b[0m \u001b[0;34m==\u001b[0m \u001b[0;34m\"hist\"\u001b[0m\u001b[0;34m:\u001b[0m\u001b[0;34m\u001b[0m\u001b[0;34m\u001b[0m\u001b[0m\n\u001b[0;32m-> 2144\u001b[0;31m         \u001b[0mgrid\u001b[0m\u001b[0;34m.\u001b[0m\u001b[0mmap_diag\u001b[0m\u001b[0;34m(\u001b[0m\u001b[0mhistplot\u001b[0m\u001b[0;34m,\u001b[0m \u001b[0;34m**\u001b[0m\u001b[0mdiag_kws\u001b[0m\u001b[0;34m)\u001b[0m\u001b[0;34m\u001b[0m\u001b[0;34m\u001b[0m\u001b[0m\n\u001b[0m\u001b[1;32m   2145\u001b[0m     \u001b[0;32melif\u001b[0m \u001b[0mdiag_kind\u001b[0m \u001b[0;34m==\u001b[0m \u001b[0;34m\"kde\"\u001b[0m\u001b[0;34m:\u001b[0m\u001b[0;34m\u001b[0m\u001b[0;34m\u001b[0m\u001b[0m\n\u001b[1;32m   2146\u001b[0m         \u001b[0mdiag_kws\u001b[0m\u001b[0;34m.\u001b[0m\u001b[0msetdefault\u001b[0m\u001b[0;34m(\u001b[0m\u001b[0;34m\"fill\"\u001b[0m\u001b[0;34m,\u001b[0m \u001b[0;32mTrue\u001b[0m\u001b[0;34m)\u001b[0m\u001b[0;34m\u001b[0m\u001b[0;34m\u001b[0m\u001b[0m\n",
            "\u001b[0;32m/usr/local/lib/python3.10/dist-packages/seaborn/axisgrid.py\u001b[0m in \u001b[0;36mmap_diag\u001b[0;34m(self, func, **kwargs)\u001b[0m\n\u001b[1;32m   1505\u001b[0m             \u001b[0mplot_kwargs\u001b[0m\u001b[0;34m.\u001b[0m\u001b[0msetdefault\u001b[0m\u001b[0;34m(\u001b[0m\u001b[0;34m\"hue_order\"\u001b[0m\u001b[0;34m,\u001b[0m \u001b[0mself\u001b[0m\u001b[0;34m.\u001b[0m\u001b[0m_hue_order\u001b[0m\u001b[0;34m)\u001b[0m\u001b[0;34m\u001b[0m\u001b[0;34m\u001b[0m\u001b[0m\n\u001b[1;32m   1506\u001b[0m             \u001b[0mplot_kwargs\u001b[0m\u001b[0;34m.\u001b[0m\u001b[0msetdefault\u001b[0m\u001b[0;34m(\u001b[0m\u001b[0;34m\"palette\"\u001b[0m\u001b[0;34m,\u001b[0m \u001b[0mself\u001b[0m\u001b[0;34m.\u001b[0m\u001b[0m_orig_palette\u001b[0m\u001b[0;34m)\u001b[0m\u001b[0;34m\u001b[0m\u001b[0;34m\u001b[0m\u001b[0m\n\u001b[0;32m-> 1507\u001b[0;31m             \u001b[0mfunc\u001b[0m\u001b[0;34m(\u001b[0m\u001b[0mx\u001b[0m\u001b[0;34m=\u001b[0m\u001b[0mvector\u001b[0m\u001b[0;34m,\u001b[0m \u001b[0;34m**\u001b[0m\u001b[0mplot_kwargs\u001b[0m\u001b[0;34m)\u001b[0m\u001b[0;34m\u001b[0m\u001b[0;34m\u001b[0m\u001b[0m\n\u001b[0m\u001b[1;32m   1508\u001b[0m             \u001b[0max\u001b[0m\u001b[0;34m.\u001b[0m\u001b[0mlegend_\u001b[0m \u001b[0;34m=\u001b[0m \u001b[0;32mNone\u001b[0m\u001b[0;34m\u001b[0m\u001b[0;34m\u001b[0m\u001b[0m\n\u001b[1;32m   1509\u001b[0m \u001b[0;34m\u001b[0m\u001b[0m\n",
            "\u001b[0;32m/usr/local/lib/python3.10/dist-packages/seaborn/distributions.py\u001b[0m in \u001b[0;36mhistplot\u001b[0;34m(data, x, y, hue, weights, stat, bins, binwidth, binrange, discrete, cumulative, common_bins, common_norm, multiple, element, fill, shrink, kde, kde_kws, line_kws, thresh, pthresh, pmax, cbar, cbar_ax, cbar_kws, palette, hue_order, hue_norm, color, log_scale, legend, ax, **kwargs)\u001b[0m\n\u001b[1;32m   1430\u001b[0m     \u001b[0;32mif\u001b[0m \u001b[0mp\u001b[0m\u001b[0;34m.\u001b[0m\u001b[0munivariate\u001b[0m\u001b[0;34m:\u001b[0m\u001b[0;34m\u001b[0m\u001b[0;34m\u001b[0m\u001b[0m\n\u001b[1;32m   1431\u001b[0m \u001b[0;34m\u001b[0m\u001b[0m\n\u001b[0;32m-> 1432\u001b[0;31m         p.plot_univariate_histogram(\n\u001b[0m\u001b[1;32m   1433\u001b[0m             \u001b[0mmultiple\u001b[0m\u001b[0;34m=\u001b[0m\u001b[0mmultiple\u001b[0m\u001b[0;34m,\u001b[0m\u001b[0;34m\u001b[0m\u001b[0;34m\u001b[0m\u001b[0m\n\u001b[1;32m   1434\u001b[0m             \u001b[0melement\u001b[0m\u001b[0;34m=\u001b[0m\u001b[0melement\u001b[0m\u001b[0;34m,\u001b[0m\u001b[0;34m\u001b[0m\u001b[0;34m\u001b[0m\u001b[0m\n",
            "\u001b[0;32m/usr/local/lib/python3.10/dist-packages/seaborn/distributions.py\u001b[0m in \u001b[0;36mplot_univariate_histogram\u001b[0;34m(self, multiple, element, fill, common_norm, common_bins, shrink, kde, kde_kws, color, legend, line_kws, estimate_kws, **plot_kws)\u001b[0m\n\u001b[1;32m    428\u001b[0m \u001b[0;34m\u001b[0m\u001b[0m\n\u001b[1;32m    429\u001b[0m         \u001b[0;31m# Do pre-compute housekeeping related to multiple groups\u001b[0m\u001b[0;34m\u001b[0m\u001b[0;34m\u001b[0m\u001b[0m\n\u001b[0;32m--> 430\u001b[0;31m         \u001b[0mall_data\u001b[0m \u001b[0;34m=\u001b[0m \u001b[0mself\u001b[0m\u001b[0;34m.\u001b[0m\u001b[0mcomp_data\u001b[0m\u001b[0;34m.\u001b[0m\u001b[0mdropna\u001b[0m\u001b[0;34m(\u001b[0m\u001b[0;34m)\u001b[0m\u001b[0;34m\u001b[0m\u001b[0;34m\u001b[0m\u001b[0m\n\u001b[0m\u001b[1;32m    431\u001b[0m         \u001b[0mall_weights\u001b[0m \u001b[0;34m=\u001b[0m \u001b[0mall_data\u001b[0m\u001b[0;34m.\u001b[0m\u001b[0mget\u001b[0m\u001b[0;34m(\u001b[0m\u001b[0;34m\"weights\"\u001b[0m\u001b[0;34m,\u001b[0m \u001b[0;32mNone\u001b[0m\u001b[0;34m)\u001b[0m\u001b[0;34m\u001b[0m\u001b[0;34m\u001b[0m\u001b[0m\n\u001b[1;32m    432\u001b[0m \u001b[0;34m\u001b[0m\u001b[0m\n",
            "\u001b[0;32m/usr/local/lib/python3.10/dist-packages/seaborn/_oldcore.py\u001b[0m in \u001b[0;36mcomp_data\u001b[0;34m(self)\u001b[0m\n\u001b[1;32m   1132\u001b[0m                 \u001b[0;32melse\u001b[0m\u001b[0;34m:\u001b[0m\u001b[0;34m\u001b[0m\u001b[0;34m\u001b[0m\u001b[0m\n\u001b[1;32m   1133\u001b[0m                     \u001b[0mcomp_col\u001b[0m \u001b[0;34m=\u001b[0m \u001b[0mpd\u001b[0m\u001b[0;34m.\u001b[0m\u001b[0mSeries\u001b[0m\u001b[0;34m(\u001b[0m\u001b[0mdtype\u001b[0m\u001b[0;34m=\u001b[0m\u001b[0mfloat\u001b[0m\u001b[0;34m,\u001b[0m \u001b[0mname\u001b[0m\u001b[0;34m=\u001b[0m\u001b[0mvar\u001b[0m\u001b[0;34m)\u001b[0m\u001b[0;34m\u001b[0m\u001b[0;34m\u001b[0m\u001b[0m\n\u001b[0;32m-> 1134\u001b[0;31m                 \u001b[0mcomp_data\u001b[0m\u001b[0;34m.\u001b[0m\u001b[0minsert\u001b[0m\u001b[0;34m(\u001b[0m\u001b[0;36m0\u001b[0m\u001b[0;34m,\u001b[0m \u001b[0mvar\u001b[0m\u001b[0;34m,\u001b[0m \u001b[0mcomp_col\u001b[0m\u001b[0;34m)\u001b[0m\u001b[0;34m\u001b[0m\u001b[0;34m\u001b[0m\u001b[0m\n\u001b[0m\u001b[1;32m   1135\u001b[0m \u001b[0;34m\u001b[0m\u001b[0m\n\u001b[1;32m   1136\u001b[0m             \u001b[0mself\u001b[0m\u001b[0;34m.\u001b[0m\u001b[0m_comp_data\u001b[0m \u001b[0;34m=\u001b[0m \u001b[0mcomp_data\u001b[0m\u001b[0;34m\u001b[0m\u001b[0;34m\u001b[0m\u001b[0m\n",
            "\u001b[0;32m/usr/local/lib/python3.10/dist-packages/pandas/core/frame.py\u001b[0m in \u001b[0;36minsert\u001b[0;34m(self, loc, column, value, allow_duplicates)\u001b[0m\n\u001b[1;32m   4819\u001b[0m             \u001b[0;32mraise\u001b[0m \u001b[0mTypeError\u001b[0m\u001b[0;34m(\u001b[0m\u001b[0;34m\"loc must be int\"\u001b[0m\u001b[0;34m)\u001b[0m\u001b[0;34m\u001b[0m\u001b[0;34m\u001b[0m\u001b[0m\n\u001b[1;32m   4820\u001b[0m \u001b[0;34m\u001b[0m\u001b[0m\n\u001b[0;32m-> 4821\u001b[0;31m         \u001b[0mvalue\u001b[0m \u001b[0;34m=\u001b[0m \u001b[0mself\u001b[0m\u001b[0;34m.\u001b[0m\u001b[0m_sanitize_column\u001b[0m\u001b[0;34m(\u001b[0m\u001b[0mvalue\u001b[0m\u001b[0;34m)\u001b[0m\u001b[0;34m\u001b[0m\u001b[0;34m\u001b[0m\u001b[0m\n\u001b[0m\u001b[1;32m   4822\u001b[0m         \u001b[0mself\u001b[0m\u001b[0;34m.\u001b[0m\u001b[0m_mgr\u001b[0m\u001b[0;34m.\u001b[0m\u001b[0minsert\u001b[0m\u001b[0;34m(\u001b[0m\u001b[0mloc\u001b[0m\u001b[0;34m,\u001b[0m \u001b[0mcolumn\u001b[0m\u001b[0;34m,\u001b[0m \u001b[0mvalue\u001b[0m\u001b[0;34m)\u001b[0m\u001b[0;34m\u001b[0m\u001b[0;34m\u001b[0m\u001b[0m\n\u001b[1;32m   4823\u001b[0m \u001b[0;34m\u001b[0m\u001b[0m\n",
            "\u001b[0;32m/usr/local/lib/python3.10/dist-packages/pandas/core/frame.py\u001b[0m in \u001b[0;36m_sanitize_column\u001b[0;34m(self, value)\u001b[0m\n\u001b[1;32m   4910\u001b[0m             \u001b[0;32mreturn\u001b[0m \u001b[0m_reindex_for_setitem\u001b[0m\u001b[0;34m(\u001b[0m\u001b[0mvalue\u001b[0m\u001b[0;34m,\u001b[0m \u001b[0mself\u001b[0m\u001b[0;34m.\u001b[0m\u001b[0mindex\u001b[0m\u001b[0;34m)\u001b[0m\u001b[0;34m\u001b[0m\u001b[0;34m\u001b[0m\u001b[0m\n\u001b[1;32m   4911\u001b[0m         \u001b[0;32melif\u001b[0m \u001b[0mis_dict_like\u001b[0m\u001b[0;34m(\u001b[0m\u001b[0mvalue\u001b[0m\u001b[0;34m)\u001b[0m\u001b[0;34m:\u001b[0m\u001b[0;34m\u001b[0m\u001b[0;34m\u001b[0m\u001b[0m\n\u001b[0;32m-> 4912\u001b[0;31m             \u001b[0;32mreturn\u001b[0m \u001b[0m_reindex_for_setitem\u001b[0m\u001b[0;34m(\u001b[0m\u001b[0mSeries\u001b[0m\u001b[0;34m(\u001b[0m\u001b[0mvalue\u001b[0m\u001b[0;34m)\u001b[0m\u001b[0;34m,\u001b[0m \u001b[0mself\u001b[0m\u001b[0;34m.\u001b[0m\u001b[0mindex\u001b[0m\u001b[0;34m)\u001b[0m\u001b[0;34m\u001b[0m\u001b[0;34m\u001b[0m\u001b[0m\n\u001b[0m\u001b[1;32m   4913\u001b[0m \u001b[0;34m\u001b[0m\u001b[0m\n\u001b[1;32m   4914\u001b[0m         \u001b[0;32mif\u001b[0m \u001b[0mis_list_like\u001b[0m\u001b[0;34m(\u001b[0m\u001b[0mvalue\u001b[0m\u001b[0;34m)\u001b[0m\u001b[0;34m:\u001b[0m\u001b[0;34m\u001b[0m\u001b[0;34m\u001b[0m\u001b[0m\n",
            "\u001b[0;32m/usr/local/lib/python3.10/dist-packages/pandas/core/frame.py\u001b[0m in \u001b[0;36m_reindex_for_setitem\u001b[0;34m(value, index)\u001b[0m\n\u001b[1;32m  12023\u001b[0m         \u001b[0;32mif\u001b[0m \u001b[0;32mnot\u001b[0m \u001b[0mvalue\u001b[0m\u001b[0;34m.\u001b[0m\u001b[0mindex\u001b[0m\u001b[0;34m.\u001b[0m\u001b[0mis_unique\u001b[0m\u001b[0;34m:\u001b[0m\u001b[0;34m\u001b[0m\u001b[0;34m\u001b[0m\u001b[0m\n\u001b[1;32m  12024\u001b[0m             \u001b[0;31m# duplicate axis\u001b[0m\u001b[0;34m\u001b[0m\u001b[0;34m\u001b[0m\u001b[0m\n\u001b[0;32m> 12025\u001b[0;31m             \u001b[0;32mraise\u001b[0m \u001b[0merr\u001b[0m\u001b[0;34m\u001b[0m\u001b[0;34m\u001b[0m\u001b[0m\n\u001b[0m\u001b[1;32m  12026\u001b[0m \u001b[0;34m\u001b[0m\u001b[0m\n\u001b[1;32m  12027\u001b[0m         raise TypeError(\n",
            "\u001b[0;32m/usr/local/lib/python3.10/dist-packages/pandas/core/frame.py\u001b[0m in \u001b[0;36m_reindex_for_setitem\u001b[0;34m(value, index)\u001b[0m\n\u001b[1;32m  12018\u001b[0m     \u001b[0;31m# GH#4107\u001b[0m\u001b[0;34m\u001b[0m\u001b[0;34m\u001b[0m\u001b[0m\n\u001b[1;32m  12019\u001b[0m     \u001b[0;32mtry\u001b[0m\u001b[0;34m:\u001b[0m\u001b[0;34m\u001b[0m\u001b[0;34m\u001b[0m\u001b[0m\n\u001b[0;32m> 12020\u001b[0;31m         \u001b[0mreindexed_value\u001b[0m \u001b[0;34m=\u001b[0m \u001b[0mvalue\u001b[0m\u001b[0;34m.\u001b[0m\u001b[0mreindex\u001b[0m\u001b[0;34m(\u001b[0m\u001b[0mindex\u001b[0m\u001b[0;34m)\u001b[0m\u001b[0;34m.\u001b[0m\u001b[0m_values\u001b[0m\u001b[0;34m\u001b[0m\u001b[0;34m\u001b[0m\u001b[0m\n\u001b[0m\u001b[1;32m  12021\u001b[0m     \u001b[0;32mexcept\u001b[0m \u001b[0mValueError\u001b[0m \u001b[0;32mas\u001b[0m \u001b[0merr\u001b[0m\u001b[0;34m:\u001b[0m\u001b[0;34m\u001b[0m\u001b[0;34m\u001b[0m\u001b[0m\n\u001b[1;32m  12022\u001b[0m         \u001b[0;31m# raised in MultiIndex.from_tuples, see test_insert_error_msmgs\u001b[0m\u001b[0;34m\u001b[0m\u001b[0;34m\u001b[0m\u001b[0m\n",
            "\u001b[0;32m/usr/local/lib/python3.10/dist-packages/pandas/core/series.py\u001b[0m in \u001b[0;36mreindex\u001b[0;34m(self, *args, **kwargs)\u001b[0m\n\u001b[1;32m   5092\u001b[0m                 )\n\u001b[1;32m   5093\u001b[0m             \u001b[0mkwargs\u001b[0m\u001b[0;34m.\u001b[0m\u001b[0mupdate\u001b[0m\u001b[0;34m(\u001b[0m\u001b[0;34m{\u001b[0m\u001b[0;34m\"index\"\u001b[0m\u001b[0;34m:\u001b[0m \u001b[0mindex\u001b[0m\u001b[0;34m}\u001b[0m\u001b[0;34m)\u001b[0m\u001b[0;34m\u001b[0m\u001b[0;34m\u001b[0m\u001b[0m\n\u001b[0;32m-> 5094\u001b[0;31m         \u001b[0;32mreturn\u001b[0m \u001b[0msuper\u001b[0m\u001b[0;34m(\u001b[0m\u001b[0;34m)\u001b[0m\u001b[0;34m.\u001b[0m\u001b[0mreindex\u001b[0m\u001b[0;34m(\u001b[0m\u001b[0;34m**\u001b[0m\u001b[0mkwargs\u001b[0m\u001b[0;34m)\u001b[0m\u001b[0;34m\u001b[0m\u001b[0;34m\u001b[0m\u001b[0m\n\u001b[0m\u001b[1;32m   5095\u001b[0m \u001b[0;34m\u001b[0m\u001b[0m\n\u001b[1;32m   5096\u001b[0m     \u001b[0;34m@\u001b[0m\u001b[0moverload\u001b[0m\u001b[0;34m\u001b[0m\u001b[0;34m\u001b[0m\u001b[0m\n",
            "\u001b[0;32m/usr/local/lib/python3.10/dist-packages/pandas/core/generic.py\u001b[0m in \u001b[0;36mreindex\u001b[0;34m(self, *args, **kwargs)\u001b[0m\n\u001b[1;32m   5287\u001b[0m \u001b[0;34m\u001b[0m\u001b[0m\n\u001b[1;32m   5288\u001b[0m         \u001b[0;31m# perform the reindex on the axes\u001b[0m\u001b[0;34m\u001b[0m\u001b[0;34m\u001b[0m\u001b[0m\n\u001b[0;32m-> 5289\u001b[0;31m         return self._reindex_axes(\n\u001b[0m\u001b[1;32m   5290\u001b[0m             \u001b[0maxes\u001b[0m\u001b[0;34m,\u001b[0m \u001b[0mlevel\u001b[0m\u001b[0;34m,\u001b[0m \u001b[0mlimit\u001b[0m\u001b[0;34m,\u001b[0m \u001b[0mtolerance\u001b[0m\u001b[0;34m,\u001b[0m \u001b[0mmethod\u001b[0m\u001b[0;34m,\u001b[0m \u001b[0mfill_value\u001b[0m\u001b[0;34m,\u001b[0m \u001b[0mcopy\u001b[0m\u001b[0;34m\u001b[0m\u001b[0;34m\u001b[0m\u001b[0m\n\u001b[1;32m   5291\u001b[0m         ).__finalize__(self, method=\"reindex\")\n",
            "\u001b[0;32m/usr/local/lib/python3.10/dist-packages/pandas/core/generic.py\u001b[0m in \u001b[0;36m_reindex_axes\u001b[0;34m(self, axes, level, limit, tolerance, method, fill_value, copy)\u001b[0m\n\u001b[1;32m   5307\u001b[0m \u001b[0;34m\u001b[0m\u001b[0m\n\u001b[1;32m   5308\u001b[0m             \u001b[0maxis\u001b[0m \u001b[0;34m=\u001b[0m \u001b[0mself\u001b[0m\u001b[0;34m.\u001b[0m\u001b[0m_get_axis_number\u001b[0m\u001b[0;34m(\u001b[0m\u001b[0ma\u001b[0m\u001b[0;34m)\u001b[0m\u001b[0;34m\u001b[0m\u001b[0;34m\u001b[0m\u001b[0m\n\u001b[0;32m-> 5309\u001b[0;31m             obj = obj._reindex_with_indexers(\n\u001b[0m\u001b[1;32m   5310\u001b[0m                 \u001b[0;34m{\u001b[0m\u001b[0maxis\u001b[0m\u001b[0;34m:\u001b[0m \u001b[0;34m[\u001b[0m\u001b[0mnew_index\u001b[0m\u001b[0;34m,\u001b[0m \u001b[0mindexer\u001b[0m\u001b[0;34m]\u001b[0m\u001b[0;34m}\u001b[0m\u001b[0;34m,\u001b[0m\u001b[0;34m\u001b[0m\u001b[0;34m\u001b[0m\u001b[0m\n\u001b[1;32m   5311\u001b[0m                 \u001b[0mfill_value\u001b[0m\u001b[0;34m=\u001b[0m\u001b[0mfill_value\u001b[0m\u001b[0;34m,\u001b[0m\u001b[0;34m\u001b[0m\u001b[0;34m\u001b[0m\u001b[0m\n",
            "\u001b[0;32m/usr/local/lib/python3.10/dist-packages/pandas/core/generic.py\u001b[0m in \u001b[0;36m_reindex_with_indexers\u001b[0;34m(self, reindexers, fill_value, copy, allow_dups)\u001b[0m\n\u001b[1;32m   5353\u001b[0m \u001b[0;34m\u001b[0m\u001b[0m\n\u001b[1;32m   5354\u001b[0m             \u001b[0;31m# TODO: speed up on homogeneous DataFrame objects (see _reindex_multi)\u001b[0m\u001b[0;34m\u001b[0m\u001b[0;34m\u001b[0m\u001b[0m\n\u001b[0;32m-> 5355\u001b[0;31m             new_data = new_data.reindex_indexer(\n\u001b[0m\u001b[1;32m   5356\u001b[0m                 \u001b[0mindex\u001b[0m\u001b[0;34m,\u001b[0m\u001b[0;34m\u001b[0m\u001b[0;34m\u001b[0m\u001b[0m\n\u001b[1;32m   5357\u001b[0m                 \u001b[0mindexer\u001b[0m\u001b[0;34m,\u001b[0m\u001b[0;34m\u001b[0m\u001b[0;34m\u001b[0m\u001b[0m\n",
            "\u001b[0;32m/usr/local/lib/python3.10/dist-packages/pandas/core/internals/managers.py\u001b[0m in \u001b[0;36mreindex_indexer\u001b[0;34m(self, new_axis, indexer, axis, fill_value, allow_dups, copy, only_slice, use_na_proxy)\u001b[0m\n\u001b[1;32m    735\u001b[0m         \u001b[0;31m# some axes don't allow reindexing with dups\u001b[0m\u001b[0;34m\u001b[0m\u001b[0;34m\u001b[0m\u001b[0m\n\u001b[1;32m    736\u001b[0m         \u001b[0;32mif\u001b[0m \u001b[0;32mnot\u001b[0m \u001b[0mallow_dups\u001b[0m\u001b[0;34m:\u001b[0m\u001b[0;34m\u001b[0m\u001b[0;34m\u001b[0m\u001b[0m\n\u001b[0;32m--> 737\u001b[0;31m             \u001b[0mself\u001b[0m\u001b[0;34m.\u001b[0m\u001b[0maxes\u001b[0m\u001b[0;34m[\u001b[0m\u001b[0maxis\u001b[0m\u001b[0;34m]\u001b[0m\u001b[0;34m.\u001b[0m\u001b[0m_validate_can_reindex\u001b[0m\u001b[0;34m(\u001b[0m\u001b[0mindexer\u001b[0m\u001b[0;34m)\u001b[0m\u001b[0;34m\u001b[0m\u001b[0;34m\u001b[0m\u001b[0m\n\u001b[0m\u001b[1;32m    738\u001b[0m \u001b[0;34m\u001b[0m\u001b[0m\n\u001b[1;32m    739\u001b[0m         \u001b[0;32mif\u001b[0m \u001b[0maxis\u001b[0m \u001b[0;34m>=\u001b[0m \u001b[0mself\u001b[0m\u001b[0;34m.\u001b[0m\u001b[0mndim\u001b[0m\u001b[0;34m:\u001b[0m\u001b[0;34m\u001b[0m\u001b[0;34m\u001b[0m\u001b[0m\n",
            "\u001b[0;32m/usr/local/lib/python3.10/dist-packages/pandas/core/indexes/base.py\u001b[0m in \u001b[0;36m_validate_can_reindex\u001b[0;34m(self, indexer)\u001b[0m\n\u001b[1;32m   4314\u001b[0m         \u001b[0;31m# trying to reindex on an axis with duplicates\u001b[0m\u001b[0;34m\u001b[0m\u001b[0;34m\u001b[0m\u001b[0m\n\u001b[1;32m   4315\u001b[0m         \u001b[0;32mif\u001b[0m \u001b[0;32mnot\u001b[0m \u001b[0mself\u001b[0m\u001b[0;34m.\u001b[0m\u001b[0m_index_as_unique\u001b[0m \u001b[0;32mand\u001b[0m \u001b[0mlen\u001b[0m\u001b[0;34m(\u001b[0m\u001b[0mindexer\u001b[0m\u001b[0;34m)\u001b[0m\u001b[0;34m:\u001b[0m\u001b[0;34m\u001b[0m\u001b[0;34m\u001b[0m\u001b[0m\n\u001b[0;32m-> 4316\u001b[0;31m             \u001b[0;32mraise\u001b[0m \u001b[0mValueError\u001b[0m\u001b[0;34m(\u001b[0m\u001b[0;34m\"cannot reindex on an axis with duplicate labels\"\u001b[0m\u001b[0;34m)\u001b[0m\u001b[0;34m\u001b[0m\u001b[0;34m\u001b[0m\u001b[0m\n\u001b[0m\u001b[1;32m   4317\u001b[0m \u001b[0;34m\u001b[0m\u001b[0m\n\u001b[1;32m   4318\u001b[0m     def reindex(\n",
            "\u001b[0;31mValueError\u001b[0m: cannot reindex on an axis with duplicate labels"
          ]
        },
        {
          "data": {
            "image/png": "[encoded data removed]",
            "text/plain": [
              "<Figure size 2750x2750 with 132 Axes>"
            ]
          },
          "metadata": {},
          "output_type": "display_data"
        }
      ],
      "source": [
        "sns.pairplot(data)"
      ]
    },
    {
      "cell_type": "code",
      "execution_count": null,
      "metadata": {
        "id": "bddsRjVv0srH"
      },
      "outputs": [],
      "source": [
        "# Using stepwise regression to find the best subset\n",
        "model <- lm(y ~ ., data = data)\n",
        "ols_step_both_p(model)"
      ]
    },
    {
      "cell_type": "markdown",
      "metadata": {
        "id": "qrnQnWvC9sSE"
      },
      "source": [
        "## Transformation"
      ]
    },
    {
      "cell_type": "code",
      "execution_count": null,
      "metadata": {
        "id": "tUu-9f920sir"
      },
      "outputs": [],
      "source": [
        "# Log transform \n",
        "# Performs so well on the right-skewed data. \n",
        "transform = FunctionTransformer(func=np.log1p)\n",
        "transformed_data = transform.fit_transform(data)"
      ]
    },
    {
      "cell_type": "code",
      "execution_count": null,
      "metadata": {
        "id": "hSlfjw0h-Vxb"
      },
      "outputs": [],
      "source": [
        "# Square transform\n",
        "# This transformation mostly applies to left-skewed data\n",
        "tranformed_data = np.square(data)"
      ]
    },
    {
      "cell_type": "code",
      "execution_count": null,
      "metadata": {
        "id": "YKjxS8Qu-VvM"
      },
      "outputs": [],
      "source": [
        "# Square Root transform\n",
        "# This can be used for reducing the skewness of right-skewed data.\n",
        "# This transformation is defined only for positive numbers.\n",
        "tranformed_data = np.sqrt(data)"
      ]
    },
    {
      "cell_type": "code",
      "execution_count": null,
      "metadata": {
        "id": "2b14B9oz-Vsc"
      },
      "outputs": [],
      "source": [
        "# Reciprocal transform\n",
        "tranformed_data = np.reciprocal(data)"
      ]
    },
    {
      "cell_type": "code",
      "execution_count": null,
      "metadata": {
        "id": "Vy893T98-Vps"
      },
      "outputs": [],
      "source": [
        "# Custom transform\n",
        "sin_tranformed_data = np.sin(data)\n",
        "cos_tranformed_data = np.cos(data)\n",
        "tan_tranformed_data = np.tan(data)"
      ]
    },
    {
      "cell_type": "code",
      "execution_count": null,
      "metadata": {
        "id": "TSs2sy-Y-Vms"
      },
      "outputs": [],
      "source": [
        "# Boxcox transform\n",
        "boxcox = PowerTransformer(method='box-cox')\n",
        "data_transformed = boxcox.fit_transform(data)"
      ]
    },
    {
      "cell_type": "markdown",
      "metadata": {
        "id": "yyke9NdG__rL"
      },
      "source": [
        "# Split the data"
      ]
    },
    {
      "cell_type": "code",
      "execution_count": null,
      "metadata": {
        "id": "FUX25iYn-Vgg"
      },
      "outputs": [],
      "source": [
        "# Split the data into X and Y\n",
        "array = data.values\n",
        "X = array[:,0:n]\n",
        "Y = array[:,n]\n",
        "validation_size = 0.20\n",
        "seed = 42\n",
        "X_train, X_validation, Y_train, Y_validation = train_test_split(X, Y, \n",
        "                                                                test_size=validation_size, \n",
        "                                                                random_state=seed)"
      ]
    },
    {
      "cell_type": "code",
      "execution_count": null,
      "metadata": {
        "id": "H3duJt2uAR_n"
      },
      "outputs": [],
      "source": [
        "# Check the size \n",
        "X_train.shape, X_validation.shape, Y_train.shape, Y_validation.shape"
      ]
    },
    {
      "cell_type": "markdown",
      "metadata": {
        "id": "3xWT-4J8DQ3U"
      },
      "source": [
        "# Building models"
      ]
    },
    {
      "cell_type": "markdown",
      "metadata": {
        "id": "L6YPwjPUDnWN"
      },
      "source": [
        "## OLS "
      ]
    },
    {
      "cell_type": "code",
      "execution_count": null,
      "metadata": {
        "id": "hEJ8oYLrDqr4"
      },
      "outputs": [],
      "source": []
    },
    {
      "cell_type": "markdown",
      "metadata": {
        "id": "TPYQ_d4LDq_9"
      },
      "source": [
        "## Various models"
      ]
    },
    {
      "cell_type": "code",
      "execution_count": null,
      "metadata": {
        "id": "HY_L94W8AZnq"
      },
      "outputs": [],
      "source": [
        "num_folds = 10\n",
        "seed = 7\n",
        "scoring = 'neg_mean_squared_error'"
      ]
    },
    {
      "cell_type": "markdown",
      "metadata": {
        "id": "-JuvGuHOGYbZ"
      },
      "source": [
        "### Models"
      ]
    },
    {
      "cell_type": "code",
      "execution_count": null,
      "metadata": {
        "id": "ya8BdEKIAR8b"
      },
      "outputs": [],
      "source": [
        "# Import models\n",
        "models = []\n",
        "models.append(('LR', LinearRegression()))\n",
        "models.append(('RIDGE', Ridge()))\n",
        "models.append(('LASSO', Lasso()))\n",
        "models.append(('EN', ElasticNet()))\n",
        "models.append(('KNN', KNeighborsRegressor()))\n",
        "models.append(('CART', DecisionTreeRegressor()))\n",
        "models.append(('SVR', SVR()))"
      ]
    },
    {
      "cell_type": "code",
      "execution_count": null,
      "metadata": {
        "id": "MD4JoaIEAR3h"
      },
      "outputs": [],
      "source": [
        "# evaluate each model in turn\n",
        "results = []\n",
        "names = []\n",
        "for name, model in models:\n",
        "  kfold = KFold(n_splits=num_folds, random_state=seed)\n",
        "  cv_results = cross_val_score(model, X_train, Y_train, cv=kfold, scoring=scoring)\n",
        "  results.append(cv_results)\n",
        "  names.append(name)\n",
        "  msg = \"%s: %f (%f)\" % (name, cv_results.mean(), cv_results.std())\n",
        "  print(msg)"
      ]
    },
    {
      "cell_type": "code",
      "execution_count": null,
      "metadata": {
        "id": "E48ESgjPEDK6"
      },
      "outputs": [],
      "source": [
        "# Plot the accuracy\n",
        "fig = pyplot.figure(figsize=(10, 10))\n",
        "fig.suptitle('Algorithm Comparison')\n",
        "ax = fig.add_subplot(111)\n",
        "pyplot.boxplot(results)\n",
        "ax.set_xticklabels(names)\n",
        "pyplot.show()"
      ]
    },
    {
      "cell_type": "markdown",
      "metadata": {
        "id": "yxyLZAUuG3nC"
      },
      "source": [
        "### Ensembles"
      ]
    },
    {
      "cell_type": "code",
      "execution_count": null,
      "metadata": {
        "id": "qYCVpmmEEDGt"
      },
      "outputs": [],
      "source": [
        "# Import ensembles\n",
        "ensembles = []\n",
        "# boosting\n",
        "ensembles.append(('ScaledAB', Pipeline([('Scaler', StandardScaler()),('AB', AdaBoostRegressor())])))\n",
        "ensembles.append(('ScaledGBM', Pipeline([('Scaler', StandardScaler()),('GBM', GradientBoostingRegressor())])))\n",
        "# bagging\n",
        "ensembles.append(('ScaledRF', Pipeline([('Scaler', StandardScaler()),('RF',RandomForestRegressor())])))\n",
        "ensembles.append(('ScaledET', Pipeline([('Scaler', StandardScaler()),('ET',ExtraTreesRegressor())])))\n",
        "results = []\n",
        "names = []\n",
        "for name, model in ensembles:\n",
        "  kfold = KFold(n_splits=num_folds, random_state=seed)\n",
        "  cv_results = cross_val_score(model, X_train, Y_train, cv=kfold, scoring=scoring)\n",
        "  results.append(cv_results)\n",
        "  names.append(name)\n",
        "  msg = \"%s: %f (%f)\" % (name, cv_results.mean(), cv_results.std())\n",
        "  print(msg)"
      ]
    },
    {
      "cell_type": "code",
      "execution_count": null,
      "metadata": {
        "id": "HQDyZtPcEDDT"
      },
      "outputs": [],
      "source": [
        "# Plot the accuracy\n",
        "fig = pyplot.figure(figsize=(10, 10))\n",
        "fig.suptitle('Scaled Ensemble Algorithm Comparison')\n",
        "ax = fig.add_subplot(111)\n",
        "pyplot.boxplot(results)\n",
        "ax.set_xticklabels(names)\n",
        "pyplot.show()"
      ]
    },
    {
      "cell_type": "markdown",
      "metadata": {
        "id": "0J-317q2HV3y"
      },
      "source": [
        "### Tunring "
      ]
    },
    {
      "cell_type": "markdown",
      "metadata": {
        "id": "pMmHaVGqHgmR"
      },
      "source": [
        "#### Linear Regression"
      ]
    },
    {
      "cell_type": "code",
      "execution_count": null,
      "metadata": {
        "id": "5Sptk1HuAR07"
      },
      "outputs": [],
      "source": []
    },
    {
      "cell_type": "markdown",
      "metadata": {
        "id": "DolUXY-I2jD_"
      },
      "source": [
        "#### Ridge"
      ]
    },
    {
      "cell_type": "code",
      "execution_count": null,
      "metadata": {
        "id": "LqazKNbo2i64"
      },
      "outputs": [],
      "source": [
        "# Ridge tuning\n",
        "scaler = StandardScaler().fit(X_train)\n",
        "rescaledX = scaler.transform(X_train)\n",
        "\n",
        "# Define our candidate hyperparameters\n",
        "param_grid = {'alpha': [0.0001, 0.001, 0.01, 0.05, 0.1, 0.2, 0.3, 0.4, 0.5, 0.6, \n",
        "                        0.7, 0.8, 0.9, 1.0, 2.0, 3.0, 4.0, 5.0, 6.0, 7.0, \n",
        "                        8.0, 9.0, 10.0, 20, 50, 100, 500, 1000 ]}\n",
        "                 \n",
        "model = Ridge()\n",
        "kfold = KFold(n_splits=num_folds, random_state=seed)\n",
        "grid = GridSearchCV(estimator=model, param_grid=param_grid, scoring=scoring, \n",
        "                    cv=kfold, return_train_score=True, verbose=1)\n",
        "grid_result = grid.fit(rescaledX, Y_train)\n",
        "\n",
        "print(\"Best: %f using %s\" % (grid_result.best_score_, grid_result.best_params_))\n",
        "means = grid_result.cv_results_['mean_test_score']\n",
        "stds = grid_result.cv_results_['std_test_score']\n",
        "params = grid_result.cv_results_['params']\n",
        "for mean, stdev, param in zip(means, stds, params):\n",
        "  print(\"%f (%f) with: %r\" % (mean, stdev, param))"
      ]
    },
    {
      "cell_type": "code",
      "execution_count": null,
      "metadata": {
        "id": "M0fpQ8ph3hCN"
      },
      "outputs": [],
      "source": [
        "# Saving GridSearchCV results into a dataframe \n",
        "cv_results = pd.DataFrame(grid_result.cv_results_)\n",
        "\n",
        "# filter cv_results with all param_alpha less than or equal to 200\n",
        "cv_results = cv_results[cv_results['param_alpha']<=200]\n",
        "\n",
        "# cv_results head\n",
        "cv_results.head()"
      ]
    },
    {
      "cell_type": "code",
      "execution_count": null,
      "metadata": {
        "id": "pCRuFvdK5O0B"
      },
      "outputs": [],
      "source": [
        "# Plotting mean train and test scores with alpha\n",
        "# changing datatype of 'param_alpha' into int\n",
        "cv_results['param_alpha'] = cv_results['param_alpha'].astype('int32')\n",
        "\n",
        "# plotting\n",
        "plt.figure(figsize=(16,8))\n",
        "plt.plot(cv_results['param_alpha'],cv_results['mean_train_score'])\n",
        "plt.plot(cv_results['param_alpha'],cv_results['mean_test_score'])\n",
        "\n",
        "plt.title('Negative Meam Absolute Error and alpha')\n",
        "plt.xlabel('alpha')\n",
        "plt.ylabel('Negative Meam Absolute Error')\n",
        "plt.legend(['train score','test score'],loc='upper right')\n",
        "\n",
        "plt.show()"
      ]
    },
    {
      "cell_type": "markdown",
      "metadata": {
        "id": "o0eTmPcrHppq"
      },
      "source": [
        "#### Lasso"
      ]
    },
    {
      "cell_type": "code",
      "execution_count": null,
      "metadata": {
        "id": "4g4WIkq1HpiW"
      },
      "outputs": [],
      "source": [
        "# Lasso tuning\n",
        "scaler = StandardScaler().fit(X_train)\n",
        "rescaledX = scaler.transform(X_train)\n",
        "\n",
        "# Define our candidate hyperparameters\n",
        "param_grid = {'alpha': [0.0001, 0.001, 0.01, 0.05, 0.1, 0.2, 0.3, 0.4, 0.5, 0.6, \n",
        "                        0.7, 0.8, 0.9, 1.0, 2.0, 3.0, 4.0, 5.0, 6.0, 7.0, \n",
        "                        8.0, 9.0, 10.0, 20, 50, 100, 500, 1000 ]}\n",
        "                 \n",
        "model = Lasso()\n",
        "kfold = KFold(n_splits=num_folds, random_state=seed)\n",
        "grid = GridSearchCV(estimator=model, param_grid=param_grid, scoring=scoring, \n",
        "                    cv=kfold, return_train_score=True, verbose=1)\n",
        "grid_result = grid.fit(rescaledX, Y_train)\n",
        "\n",
        "print(\"Best: %f using %s\" % (grid_result.best_score_, grid_result.best_params_))\n",
        "means = grid_result.cv_results_['mean_test_score']\n",
        "stds = grid_result.cv_results_['std_test_score']\n",
        "params = grid_result.cv_results_['params']\n",
        "for mean, stdev, param in zip(means, stds, params):\n",
        "  print(\"%f (%f) with: %r\" % (mean, stdev, param))"
      ]
    },
    {
      "cell_type": "code",
      "execution_count": null,
      "metadata": {
        "id": "cYbsQU7a5IXD"
      },
      "outputs": [],
      "source": [
        "# Saving GridSearchCV results into a dataframe \n",
        "cv_results = pd.DataFrame(grid_result.cv_results_)\n",
        "\n",
        "# filter cv_results with all param_alpha less than or equal to 200\n",
        "cv_results = cv_results[cv_results['param_alpha']<=200]\n",
        "\n",
        "# cv_results head\n",
        "cv_results.head()"
      ]
    },
    {
      "cell_type": "code",
      "execution_count": null,
      "metadata": {
        "id": "21usMQoQ5Spl"
      },
      "outputs": [],
      "source": [
        "# Plotting mean train and test scores with alpha\n",
        "# changing param_alpha datatype to float\n",
        "cv_results['param_alpha'] = cv_results['param_alpha'].astype('int32')\n",
        "\n",
        "# plotting\n",
        "plt.figure(figsize=(16,8))\n",
        "plt.plot(cv_results['param_alpha'],cv_results['mean_train_score'])\n",
        "plt.plot(cv_results['param_alpha'],cv_results['mean_test_score'])\n",
        "\n",
        "plt.title('Negative Meam Absolute Error and alpha')\n",
        "plt.xlabel('alpha')\n",
        "plt.ylabel('Negative Meam Absolute Error')\n",
        "plt.legend(['train score','test score'],loc='upper left')\n",
        "\n",
        "plt.show()"
      ]
    },
    {
      "cell_type": "markdown",
      "metadata": {
        "id": "MNWyKdAQHpaA"
      },
      "source": [
        "#### Elastic Net"
      ]
    },
    {
      "cell_type": "code",
      "execution_count": null,
      "metadata": {
        "id": "1_zzaJqGHpS_"
      },
      "outputs": [],
      "source": [
        "# Elastic tuning\n",
        "scaler = StandardScaler().fit(X_train)\n",
        "rescaledX = scaler.transform(X_train)\n",
        "\n",
        "# Define our candidate hyperparameters\n",
        "param_grid = {'alpha': [0.0001, 0.001, 0.01, 0.05, 0.1, 0.2, 0.3, 0.4, 0.5, 0.6, \n",
        "                        0.7, 0.8, 0.9, 1.0, 2.0, 3.0, 4.0, 5.0, 6.0, 7.0, \n",
        "                        8.0, 9.0, 10.0, 20, 50, 100, 500, 1000 ]}\n",
        "                 \n",
        "model = ElasticNet() \n",
        "kfold = KFold(n_splits=num_folds, random_state=seed)\n",
        "grid = GridSearchCV(estimator=model, param_grid=param_grid, scoring=scoring, \n",
        "                    cv=kfold, return_train_score=True, verbose=1)\n",
        "grid_result = grid.fit(rescaledX, Y_train)\n",
        "\n",
        "print(\"Best: %f using %s\" % (grid_result.best_score_, grid_result.best_params_))\n",
        "means = grid_result.cv_results_['mean_test_score']\n",
        "stds = grid_result.cv_results_['std_test_score']\n",
        "params = grid_result.cv_results_['params']\n",
        "for mean, stdev, param in zip(means, stds, params):\n",
        "  print(\"%f (%f) with: %r\" % (mean, stdev, param))"
      ]
    },
    {
      "cell_type": "code",
      "execution_count": null,
      "metadata": {
        "id": "738V6j5t6OUJ"
      },
      "outputs": [],
      "source": [
        "# Saving model_cv results into a dataframe\n",
        "cv_results = pd.DataFrame(grid_cv_model.cv_results_)\n",
        "\n",
        "# cv_results head\n",
        "cv_results.head()"
      ]
    },
    {
      "cell_type": "code",
      "execution_count": null,
      "metadata": {
        "id": "SpgFJZMM6ORF"
      },
      "outputs": [],
      "source": [
        "# Plotting mean train and test scores with alpha\n",
        "# change param_alpha datatype to float\n",
        "cv_results['param_alpha'] = cv_results['param_alpha'].astype('int32')\n",
        "\n",
        "# plotting\n",
        "plt.figure(figsize=(16,8))\n",
        "plt.plot(cv_results['param_alpha'],cv_results['mean_train_score'])\n",
        "plt.plot(cv_results['param_alpha'],cv_results['mean_test_score'])\n",
        "\n",
        "plt.title('Negative Meam Absolute Error and alpha')\n",
        "plt.xlabel('alpha')\n",
        "plt.ylabel('Negative Meam Absolute Error')\n",
        "plt.legend(['train score','test score'],loc='upper left')"
      ]
    },
    {
      "cell_type": "markdown",
      "metadata": {
        "id": "nEDUGuuKHpLy"
      },
      "source": [
        "#### Decision Tree"
      ]
    },
    {
      "cell_type": "code",
      "execution_count": null,
      "metadata": {
        "id": "viPHMC98HpEs"
      },
      "outputs": [],
      "source": []
    },
    {
      "cell_type": "markdown",
      "metadata": {
        "id": "ZgmH7W8-Ho8P"
      },
      "source": [
        "#### KNeighbors "
      ]
    },
    {
      "cell_type": "code",
      "execution_count": null,
      "metadata": {
        "id": "liquS_82Hozx"
      },
      "outputs": [],
      "source": [
        "# KNN Algorithm tuning\n",
        "scaler = StandardScaler().fit(X_train)\n",
        "rescaledX = scaler.transform(X_train)\n",
        "\n",
        "# Define our candidate hyperparameters\n",
        "param_grid = [{'n_neighbors': [2,3,4,5,6,7,8,9,10,11,12,13,14,15], \n",
        "                  'weights': ['uniform','distance'],'p':[1,2,5]}\n",
        "                 \n",
        "model = KNeighborsRegressor()\n",
        "kfold = KFold(n_splits=num_folds, random_state=seed)\n",
        "grid = GridSearchCV(estimator=model, param_grid=param_grid, scoring=scoring, cv=kfold)\n",
        "grid_result = grid.fit(rescaledX, Y_train)\n",
        "\n",
        "print(\"Best: %f using %s\" % (grid_result.best_score_, grid_result.best_params_))\n",
        "means = grid_result.cv_results_['mean_test_score']\n",
        "stds = grid_result.cv_results_['std_test_score']\n",
        "params = grid_result.cv_results_['params']\n",
        "for mean, stdev, param in zip(means, stds, params):\n",
        "  print(\"%f (%f) with: %r\" % (mean, stdev, param))"
      ]
    },
    {
      "cell_type": "code",
      "execution_count": null,
      "metadata": {
        "id": "fkbWqPd0-Xgh"
      },
      "outputs": [],
      "source": [
        "# Saving model_cv results into a dataframe\n",
        "cv_results = pd.DataFrame(grid_cv_model.cv_results_)\n",
        "\n",
        "# cv_results head\n",
        "cv_results.head()"
      ]
    },
    {
      "cell_type": "code",
      "execution_count": null,
      "metadata": {
        "id": "SxRo7ijk-XFL"
      },
      "outputs": [],
      "source": [
        "# Plotting mean train and test scores with alpha\n",
        "# change param_alpha datatype to float\n",
        "cv_results['param_alpha'] = cv_results['param_alpha'].astype('int32')\n",
        "\n",
        "# plotting\n",
        "plt.figure(figsize=(16,8))\n",
        "plt.plot(cv_results['param_alpha'],cv_results['mean_train_score'])\n",
        "plt.plot(cv_results['param_alpha'],cv_results['mean_test_score'])\n",
        "\n",
        "plt.title('Negative Meam Absolute Error and alpha')\n",
        "plt.xlabel('alpha')\n",
        "plt.ylabel('Negative Meam Absolute Error')\n",
        "plt.legend(['train score','test score'],loc='upper left')"
      ]
    },
    {
      "cell_type": "markdown",
      "metadata": {
        "id": "LSYaOgjKHoqX"
      },
      "source": [
        "#### Random Forest"
      ]
    },
    {
      "cell_type": "code",
      "execution_count": null,
      "metadata": {
        "id": "DabgN6DtHohA"
      },
      "outputs": [],
      "source": []
    },
    {
      "cell_type": "markdown",
      "metadata": {
        "id": "g1oqQj1QHoVm"
      },
      "source": [
        "##### Gradient Boosting"
      ]
    },
    {
      "cell_type": "code",
      "execution_count": null,
      "metadata": {
        "id": "T8I3PgIsHoKy"
      },
      "outputs": [],
      "source": [
        "# Gradient Boosting tuning\n",
        "scaler = StandardScaler().fit(X_train)\n",
        "rescaledX = scaler.transform(X_train)\n",
        "\n",
        "# Define our candidate hyperparameters\n",
        "param_grid = {'learning_rate': [0.01,0.02,0.03,0.04],\n",
        "                  'subsample'    : [0.9, 0.5, 0.2, 0.1],\n",
        "                  'n_estimators' : [100,500,1000, 1500],\n",
        "                  'max_depth'    : [4,6,8,10]}\n",
        "                 \n",
        "model = GradientBoostingRegressor()\n",
        "kfold = KFold(n_splits=num_folds, random_state=seed)\n",
        "grid = GridSearchCV(estimator=model, param_grid=param_grid, scoring=scoring, cv=kfold, n_jobs=-1)\n",
        "grid_result = grid.fit(rescaledX, Y_train)\n",
        "\n",
        "print(\"Best: %f using %s\" % (grid_result.best_score_, grid_result.best_params_))\n",
        "means = grid_result.cv_results_['mean_test_score']\n",
        "stds = grid_result.cv_results_['std_test_score']\n",
        "params = grid_result.cv_results_['params']\n",
        "for mean, stdev, param in zip(means, stds, params):\n",
        "  print(\"%f (%f) with: %r\" % (mean, stdev, param))"
      ]
    },
    {
      "cell_type": "code",
      "execution_count": null,
      "metadata": {
        "id": "80RRqABd-a4q"
      },
      "outputs": [],
      "source": [
        "# Saving model_cv results into a dataframe\n",
        "cv_results = pd.DataFrame(grid_cv_model.cv_results_)\n",
        "\n",
        "# cv_results head\n",
        "cv_results.head()"
      ]
    },
    {
      "cell_type": "code",
      "execution_count": null,
      "metadata": {
        "id": "nID4x9P0-azw"
      },
      "outputs": [],
      "source": [
        "# Plotting mean train and test scores with alpha\n",
        "# change param_alpha datatype to float\n",
        "cv_results['param_alpha'] = cv_results['param_alpha'].astype('int32')\n",
        "\n",
        "# plotting\n",
        "plt.figure(figsize=(16,8))\n",
        "plt.plot(cv_results['param_alpha'],cv_results['mean_train_score'])\n",
        "plt.plot(cv_results['param_alpha'],cv_results['mean_test_score'])\n",
        "\n",
        "plt.title('Negative Meam Absolute Error and alpha')\n",
        "plt.xlabel('alpha')\n",
        "plt.ylabel('Negative Meam Absolute Error')\n",
        "plt.legend(['train score','test score'],loc='upper left')"
      ]
    },
    {
      "cell_type": "markdown",
      "metadata": {
        "id": "fjmaW-_rH-z4"
      },
      "source": [
        "#### Extra Tree"
      ]
    },
    {
      "cell_type": "code",
      "execution_count": null,
      "metadata": {
        "id": "bqMpAf8iH-ow"
      },
      "outputs": [],
      "source": []
    },
    {
      "cell_type": "markdown",
      "metadata": {
        "id": "p3dQ-fD2IOSl"
      },
      "source": [
        "#### Ada Boost"
      ]
    },
    {
      "cell_type": "code",
      "execution_count": null,
      "metadata": {
        "id": "DXx0JfucIOrB"
      },
      "outputs": [],
      "source": []
    },
    {
      "cell_type": "markdown",
      "metadata": {
        "id": "N0p66qbOEDzi"
      },
      "source": [
        "# Testing"
      ]
    },
    {
      "cell_type": "code",
      "execution_count": null,
      "metadata": {
        "id": "-YnZ-ntDEHVe"
      },
      "outputs": [],
      "source": []
    }
  ],
  "metadata": {
    "colab": {
      "provenance": []
    },
    "kernelspec": {
      "display_name": "Python 3",
      "name": "python3"
    },
    "language_info": {
      "name": "python"
    }
  },
  "nbformat": 4,
  "nbformat_minor": 0
}